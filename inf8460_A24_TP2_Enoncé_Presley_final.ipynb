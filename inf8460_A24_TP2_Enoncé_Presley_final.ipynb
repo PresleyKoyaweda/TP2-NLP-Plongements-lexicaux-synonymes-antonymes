{
  "cells": [
    {
      "cell_type": "markdown",
      "metadata": {
        "id": "qvyCdVBnyVEv"
      },
      "source": [
        "##### INF8460 – Traitement automatique de la langue naturelle - Automne 2024\n",
        "\n",
        "## TP2: Plongements de mots"
      ]
    },
    {
      "cell_type": "markdown",
      "metadata": {
        "id": "uIFgdec9yVEw"
      },
      "source": [
        "## Identification de l'équipe:\n",
        "\n",
        "### Groupe de laboratoire:\n",
        "\n",
        "### Equipe numéro :\n",
        "\n",
        "### Membres:\n",
        "\n",
        "- Gervais Presley Koyaweda 2305686 (1/3)\n",
        "- Lucie Legarez 2413157 (1/3)\n",
        "- Ibrahima Ba 1943223 (1/3)\n",
        "\n",
        "##### Le TP s'est fait de façon indépendante avec comme objectif de comparer nos différents résultats et de choisir les scipts les  plus simples et rapide à chaque étape. Tous les membres de l'équipe ont travaillé sur chacune des 3 parties et les efforts fournis ont été équitables.\n",
        "\n",
        "* nature de la contribution: Décrivez brièvement ce qui a été fait par chaque membre de l’équipe. Tous les membres sont censés contribuer au développement. Bien que chaque membre puisse effectuer différentes tâches, vous devez vous efforcer d’obtenir une répartition égale du travail. Soyez précis ! N'indiquez pas seulement : travail réparti équitablement"
      ]
    },
    {
      "cell_type": "markdown",
      "metadata": {
        "id": "1-C-ZS31yVEx"
      },
      "source": [
        "### Objectif du TP\n",
        "\n",
        "L'objectif de ce TP est d'entraîner un modèle de plongements lexicaux qui intègre des notions de synonymie et d'antonymie en utilisant des réseaux de neurones.\n",
        "\n",
        "Contrairement aux plongements vus en cours comme GloVe ou Word2Vec, qui positionnent souvent les mots à proximité équivalente de leurs synonymes et antonymes, nous chercherons à faire distinguer à nos modèles les synonymes et antonymes, en rapprochant les mots de leurs synonymes et en les éloignant de leurs antonymes.\n",
        "\n",
        "### Jeux de données\n",
        "\n",
        "**Paires de synonymes et antonymes** (entraînement) : Les fichiers `train_synonyms.txt` et `train_antonymms.txt` contiennent les paires de synonymes et d'antonymes qui serviront à l'entraînement de nos modèles.\n",
        "- train_synonyms: ~640k paires de synonymes\n",
        "- train_antonyms: ~12k paires d'antonymes\n",
        "\n",
        "**SimLex-999** (test) : Le fichier `simlex_english.txt` contient 1000 paires de mots et leur similarité entre 0 et 10. Des antonymes auront une similarité de 0 et des mots proches auront une similarité plus élevée. Par exemples :\n",
        "\n",
        "- *nice* & *cruel* -> 0\n",
        "- *violent* & *angry* -> 5.9\n",
        "- *essential* & *necessary* -> 9.8\n",
        "\n",
        "### Développement du TP\n",
        "\n",
        "Le TP suivra les étapes suivantes:\n",
        "\n",
        "- Partie 1 : Familiarisation avec GloVe, modèle de plongements de mots pré-entraîné\n",
        "- Partie 2 : Évaluation de GloVe sur SimLex-999\n",
        "- Partie 3 : Mise en place de la méthode d'entraînement\n",
        "- Partie 4 : Entraînement de zéro (baseline)\n",
        "- Partie 5 : Entraînement utilisant GloVe pré-entraîné et conclusion\n",
        "\n",
        "Le TP est noté sur 89 points."
      ]
    },
    {
      "cell_type": "markdown",
      "metadata": {
        "id": "20-HrsYEyVEy"
      },
      "source": [
        "### Librairies autorisées\n",
        "\n",
        "+ numpy\n",
        "+ pandas\n",
        "+ torch\n",
        "+ matplotlib\n",
        "\n",
        "Si vous voulez utiliser une autre librairie, veuillez demander à votre chargé de lab.\n",
        "\n",
        "### Imports\n",
        "\n",
        "Les imports effectués dans la cellule suivante devraient être suffisants pour faire tout ce TP."
      ]
    },
    {
      "cell_type": "code",
      "execution_count": null,
      "metadata": {
        "colab": {
          "base_uri": "https://localhost:8080/"
        },
        "id": "YXvk0WfVyVEz",
        "outputId": "1093500a-99d8-4bd6-80f5-5c8ec5588b88"
      },
      "outputs": [
        {
          "name": "stdout",
          "output_type": "stream",
          "text": [
            "Requirement already satisfied: torch in /usr/local/lib/python3.10/dist-packages (2.4.1+cu121)\n",
            "Requirement already satisfied: filelock in /usr/local/lib/python3.10/dist-packages (from torch) (3.16.1)\n",
            "Requirement already satisfied: typing-extensions>=4.8.0 in /usr/local/lib/python3.10/dist-packages (from torch) (4.12.2)\n",
            "Requirement already satisfied: sympy in /usr/local/lib/python3.10/dist-packages (from torch) (1.13.3)\n",
            "Requirement already satisfied: networkx in /usr/local/lib/python3.10/dist-packages (from torch) (3.3)\n",
            "Requirement already satisfied: jinja2 in /usr/local/lib/python3.10/dist-packages (from torch) (3.1.4)\n",
            "Requirement already satisfied: fsspec in /usr/local/lib/python3.10/dist-packages (from torch) (2024.6.1)\n",
            "Requirement already satisfied: MarkupSafe>=2.0 in /usr/local/lib/python3.10/dist-packages (from jinja2->torch) (2.1.5)\n",
            "Requirement already satisfied: mpmath<1.4,>=1.1.0 in /usr/local/lib/python3.10/dist-packages (from sympy->torch) (1.3.0)\n"
          ]
        }
      ],
      "source": [
        "#pip install torch"
      ]
    },
    {
      "cell_type": "code",
      "execution_count": 1,
      "metadata": {
        "id": "LZqM4y1GyVEz"
      },
      "outputs": [],
      "source": [
        "from tqdm import tqdm\n",
        "import gc\n",
        "\n",
        "import numpy as np\n",
        "import pandas as pd\n",
        "import matplotlib.pyplot as plt\n",
        "\n",
        "import torch\n",
        "import torch.nn as nn\n",
        "import torch.nn.functional as F\n",
        "import torch.optim as optim\n",
        "from torch.utils.data import DataLoader"
      ]
    },
    {
      "cell_type": "markdown",
      "metadata": {
        "id": "kp5-mA67yVE0"
      },
      "source": [
        "### 1. GloVe (10 Points)"
      ]
    },
    {
      "cell_type": "markdown",
      "metadata": {
        "id": "kT3DBLsMyVE0"
      },
      "source": [
        "Dans ce TP, nous allons utiliser le modèle pré-entraîné GloVe qui crée des plongements lexicaux de mots."
      ]
    },
    {
      "cell_type": "markdown",
      "metadata": {
        "id": "VSt-0of1yVE0"
      },
      "source": [
        "#### 1.1 Chargement du modèle\n",
        "\n",
        "La cellule suivante permet charger le modèle GloVe pré-entraîné. Le chargement du modèle peut prendre quelques minutes."
      ]
    },
    {
      "cell_type": "code",
      "execution_count": 2,
      "metadata": {
        "colab": {
          "base_uri": "https://localhost:8080/"
        },
        "id": "_s3SFO7byVE0",
        "outputId": "af642d9d-e4ee-43eb-f008-6bf685d27e25"
      },
      "outputs": [
        {
          "name": "stdout",
          "output_type": "stream",
          "text": [
            "--2024-10-07 01:57:38--  http://nlp.stanford.edu/data/glove.42B.300d.zip\n",
            "Resolving nlp.stanford.edu (nlp.stanford.edu)... 171.64.67.140\n",
            "Connecting to nlp.stanford.edu (nlp.stanford.edu)|171.64.67.140|:80... connected.\n",
            "HTTP request sent, awaiting response... 302 Found\n",
            "Location: https://nlp.stanford.edu/data/glove.42B.300d.zip [following]\n",
            "--2024-10-07 01:57:38--  https://nlp.stanford.edu/data/glove.42B.300d.zip\n",
            "Connecting to nlp.stanford.edu (nlp.stanford.edu)|171.64.67.140|:443... connected.\n",
            "HTTP request sent, awaiting response... 301 Moved Permanently\n",
            "Location: https://downloads.cs.stanford.edu/nlp/data/glove.42B.300d.zip [following]\n",
            "--2024-10-07 01:57:38--  https://downloads.cs.stanford.edu/nlp/data/glove.42B.300d.zip\n",
            "Resolving downloads.cs.stanford.edu (downloads.cs.stanford.edu)... 171.64.64.22\n",
            "Connecting to downloads.cs.stanford.edu (downloads.cs.stanford.edu)|171.64.64.22|:443... connected.\n",
            "HTTP request sent, awaiting response... 200 OK\n",
            "Length: 1877800501 (1.7G) [application/zip]\n",
            "Saving to: ‘/content/glove.42B.300d.zip’\n",
            "\n",
            "glove.42B.300d.zip  100%[===================>]   1.75G  5.12MB/s    in 6m 23s  \n",
            "\n",
            "2024-10-07 02:04:01 (4.67 MB/s) - ‘/content/glove.42B.300d.zip’ saved [1877800501/1877800501]\n",
            "\n",
            "Archive:  /content/glove.42B.300d.zip\n",
            "  inflating: /content/glove.42B.300d.txt  \n"
          ]
        }
      ],
      "source": [
        "#Décommenter pour télécharger les GloVe embeddings à partir de https://nlp.stanford.edu/projects/glove/\n",
        "#!wget http://nlp.stanford.edu/data/glove.42B.300d.zip -P /content\n",
        "#!unzip /content/glove.42B.300d.zip -d /content"
      ]
    },
    {
      "cell_type": "code",
      "execution_count": 3,
      "metadata": {
        "id": "6t0hrCSgyVE1"
      },
      "outputs": [],
      "source": [
        "pretrained_model_path = 'glove.42B.300d.txt'\n",
        "\n",
        "data_root = 'data'\n",
        "\n",
        "train_synonyms_path = f\"{data_root}/train_synonyms.txt\"\n",
        "train_antonyms_path = f\"{data_root}/train_antonyms.txt\"\n",
        "\n",
        "eval_simlex = f'{data_root}/simlex_english.txt'"
      ]
    },
    {
      "cell_type": "code",
      "execution_count": 4,
      "metadata": {
        "id": "JKe3smC1yVE1"
      },
      "outputs": [],
      "source": [
        "def load_word_vectors(filepath, vocab=None):\n",
        "    \"\"\"\n",
        "    Télécharge le modèle pré-entraîné de plongements de mots en pytorch\n",
        "    \"\"\"\n",
        "    word_to_index = {}\n",
        "    embeddings = []\n",
        "    index = 0\n",
        "\n",
        "    with open(filepath, 'r', encoding='utf-8') as f:\n",
        "        for line in f:\n",
        "            split_line = line.split()\n",
        "            word = split_line[0]\n",
        "            if vocab is None or word in vocab:\n",
        "                embedding = np.array(split_line[1:], dtype=np.float32)\n",
        "                word_to_index[word] = index\n",
        "                embeddings.append(embedding)\n",
        "                index += 1\n",
        "\n",
        "    embeddings = np.stack(embeddings)\n",
        "    embeddings = torch.from_numpy(embeddings)\n",
        "    return word_to_index, embeddings"
      ]
    },
    {
      "cell_type": "code",
      "execution_count": 5,
      "metadata": {
        "id": "qhTY-9jKyVE1"
      },
      "outputs": [],
      "source": [
        "word_to_index, embeddings = load_word_vectors(pretrained_model_path)"
      ]
    },
    {
      "cell_type": "markdown",
      "metadata": {
        "id": "fZRhqN-xyVE1"
      },
      "source": [
        "#### 1.2 Implémentez la fonction `cosine_similarity` avec pytorch et sans utiliser `torch.nn.CosineSimilarity` (2 points)"
      ]
    },
    {
      "cell_type": "code",
      "execution_count": 6,
      "metadata": {
        "id": "HiJYfB0myVE1"
      },
      "outputs": [],
      "source": [
        "def cosine_similarity(a, b):\n",
        "    \"\"\"\n",
        "    Calcule la matrice de similarité cosinus entre deux matrices\n",
        "\n",
        "    Args :\n",
        "        a   : torch.Tensor, shape=(n, d)\n",
        "        b   : torch.Tensor, shape=(m, d)\n",
        "\n",
        "    Returns:\n",
        "    torch.Tensor, shape=(n, m)\n",
        "    \"\"\"\n",
        "    # TODO\n",
        "\n",
        "   # Calcul des normes (magnitudes) des vecteurs a et b\n",
        "    a_norm = a / a.norm(dim=1, keepdim=True)\n",
        "    b_norm = b / b.norm(dim=1, keepdim=True)\n",
        "\n",
        "    # Calcul du produit scalaire entre les vecteurs normalisés\n",
        "    cosine_similarity_value = torch.mm(a_norm, b_norm.mT)  # Utilisation de mT pour la transposition correcte\n",
        "\n",
        "    return cosine_similarity_value\n",
        "\n",
        "    # END TODO"
      ]
    },
    {
      "cell_type": "markdown",
      "metadata": {
        "id": "Kpr6roj9yVE1"
      },
      "source": [
        "#### 1.3 Complétez la fonction `n_closest_vect` qui retourne les n mots les plus proches d'un mot donné. (5 points)\n",
        "\n",
        "`n_closest_vect` prendra en entrée la matrice des plongements `embeddings`, le dictionnaire de correspondance entre les mots et les indices `word_to_index`, le plongement d'un mot `word` et le nombre `n` de mots attendus. La fonction devra retourner la liste des mots dont les plongements sont les plus proches du vecteur de référence et leur similarité cosinus.\n",
        "\n",
        "C'est-à-dire les n mots avec lesquels le mot a la plus grande similarité cosinus. Utilisez la fonction `cosine_similarity` que vous venez d'implémenter."
      ]
    },
    {
      "cell_type": "code",
      "execution_count": 7,
      "metadata": {
        "id": "XkdueNMPyVE1"
      },
      "outputs": [],
      "source": [
        "from os import close\n",
        "def n_closest_vect(embeddings, word_to_index, word, n=5):\n",
        "    \"\"\"\n",
        "    Trouve les n mots les plus proches du vecteur donné et leur similarité\n",
        "\n",
        "    Args :\n",
        "        embeddings      : torch.Tensor, shape=(vocab_size, embedding_dim)\n",
        "        Matrice de plongement de tous les mots\n",
        "\n",
        "        word_to_index   : dict\n",
        "        Dictionnaire qui relie un mot à son index dans le vocabulaire\n",
        "\n",
        "        word            : torch.Tensor, shape=(embedding_dim,)\n",
        "        Plongement du mot dont on cherche les n mots les plus proches\n",
        "\n",
        "        n               : int, number of closest words to return\n",
        "        Nombre de mots à retourner\n",
        "\n",
        "    Returns:\n",
        "    Liste de tuple contenant les n mots les plus similaires avec leur coefficient\n",
        "    de similarité\n",
        "    \"\"\"\n",
        "    # TODO\n",
        "\n",
        "    # Calcul de la similarité entre le mot donné et l'ensemble des mots du vocabulaire\n",
        "    similarities = cosine_similarity(word.unsqueeze(0), embeddings).squeeze(0)\n",
        "\n",
        "    # Extraction des n similarités les plus élevées et leurs indices correspondants\n",
        "    highest_similarities, indices = torch.topk(similarities, n)\n",
        "\n",
        "    # Création d'une liste des n mots les plus proches avec leur score de similarité\n",
        "    index_to_word = {v: k for k, v in word_to_index.items()}\n",
        "    similar_words = [(index_to_word[i.item()], s.item()) for i, s in zip(indices, highest_similarities)]\n",
        "\n",
        "    return similar_words\n",
        "\n",
        "    # END TODO"
      ]
    },
    {
      "cell_type": "code",
      "execution_count": 8,
      "metadata": {
        "colab": {
          "base_uri": "https://localhost:8080/"
        },
        "id": "r-Mjps6RyVE1",
        "outputId": "07c973f0-e91e-4fa5-eb73-886cab6e1632"
      },
      "outputs": [
        {
          "name": "stdout",
          "output_type": "stream",
          "text": [
            "[('morning', 1.0), ('afternoon', 0.8665473461151123), ('evening', 0.7880070209503174), ('yesterday', 0.7614548206329346), ('sunday', 0.7548925876617432)]\n"
          ]
        }
      ],
      "source": [
        "# Exemple\n",
        "print(n_closest_vect(embeddings, word_to_index, embeddings[word_to_index['morning']]))"
      ]
    },
    {
      "cell_type": "markdown",
      "metadata": {
        "id": "mTnJz7gMyVE1"
      },
      "source": [
        "Sortie attendue :\n",
        "```\n",
        "[('morning', 1.0), ('afternoon', 0.8665473461151123), ('evening', 0.7880070209503174), ('yesterday', 0.7614548206329346), ('sunday', 0.7548925876617432)]\n",
        "```"
      ]
    },
    {
      "cell_type": "markdown",
      "metadata": {
        "id": "_15-ao58yVE1"
      },
      "source": [
        "#### 1.4 Quelle est la similarité cosinus entre 'fast' et 'slow' ? Entre 'fast' et 'rapid' ? Commentez les résultats et expliquez leur origine. (3 points)"
      ]
    },
    {
      "cell_type": "code",
      "execution_count": 9,
      "metadata": {
        "colab": {
          "base_uri": "https://localhost:8080/"
        },
        "id": "IXSg1HdlyVE1",
        "outputId": "f53d3526-3526-4559-9210-b40f32e571a5"
      },
      "outputs": [
        {
          "name": "stdout",
          "output_type": "stream",
          "text": [
            "La similarité cosinus entre 'fast' et 'slow' est :  tensor([[0.7114]])\n",
            "La similarité cosinus entre 'fast' et 'rapid' est :  tensor([[0.6445]])\n"
          ]
        }
      ],
      "source": [
        "# TODO\n",
        "\n",
        "sim_cos_fast_and_slow=cosine_similarity(embeddings[word_to_index['fast']].unsqueeze(0),embeddings[word_to_index['slow']].unsqueeze(0))\n",
        "sim_cos_fast_and_rapid=cosine_similarity(embeddings[word_to_index['fast']].unsqueeze(0),embeddings[word_to_index['rapid']].unsqueeze(0))\n",
        "\n",
        "print(\"La similarité cosinus entre 'fast' et 'slow' est : \",sim_cos_fast_and_slow)\n",
        "print(\"La similarité cosinus entre 'fast' et 'rapid' est : \",sim_cos_fast_and_rapid)\n",
        "# END TODO"
      ]
    },
    {
      "cell_type": "markdown",
      "metadata": {
        "id": "4O6Vg0awKzSW"
      },
      "source": [
        "### Explication des résultats :\n",
        "\n",
        "#### \"Fast\" et \"Slow\" :\n",
        "\n",
        "Bien que **\"fast\"** et **\"slow\"** soient des antonymes (c'est-à-dire qu'ils ont des significations opposées), la similarité cosinus élevée (**0.7114**) peut s'expliquer par le fait que dans l'espace d'embedding, les mots antonymes sont souvent proches l'un de l'autre car ils sont utilisés dans des contextes similaires. Les mots ayant une relation sémantique (même opposée) peuvent partager des contextes linguistiques proches, d'où une similarité élevée.\n",
        "\n",
        "#### \"Fast\" et \"Rapid\" :\n",
        "\n",
        "On s'attendrait à ce que **\"fast\"** et **\"rapid\"**, étant des synonymes, aient une similarité cosinus très élevée. Ici, la similarité est relativement haute (**0.6445**), mais légèrement inférieure à celle entre **\"fast\"** et **\"slow\"**. Cela peut être dû à des différences subtiles dans les contextes d'utilisation de **\"fast\"** et **\"rapid\"** dans le corpus d'entraînement utilisé pour les embeddings. Les synonymes peuvent parfois apparaître dans des contextes différents, affectant la similarité cosinus dans l'espace d'embedding.\n",
        "\n",
        "### Conclusion :\n",
        "\n",
        "- **\"Fast\"** et **\"slow\"** partagent une similarité sémantique en termes d'utilisation contextuelle, même s'ils ont des significations opposées, ce qui se reflète dans une similarité cosinus relativement élevée.\n",
        "- **\"Fast\"** et **\"rapid\"** sont synonymes, mais la similarité cosinus entre eux peut ne pas être aussi élevée en raison de légères différences dans leur usage contextuel dans le corpus d'entraînement des embeddings.\n"
      ]
    },
    {
      "cell_type": "markdown",
      "metadata": {
        "id": "6OyD1uBEyVE1"
      },
      "source": [
        "### 2. Évaluation (12 Points)\n",
        "\n",
        "#### Données\n",
        "\n",
        "Les cellules qui suivent permettent de télécharger les données et de se restreindre au vocabulaire qui nous sera utile, pour éviter de charger des plongements inutiles.\n",
        "\n",
        "Comme décrit dans l'introduction, nous avons 3 fichiers de données:\n",
        "- Des paires de synonymes pour l'entraînement (`train_synonyms.txt`)\n",
        "- Des paires d'antonymes pour l'entraînement (`train_antonymms.txt`)\n",
        "- Des paires de mots avec leur similarité pour l'évaluation (`simlex_english.txt`)"
      ]
    },
    {
      "cell_type": "code",
      "execution_count": 94,
      "metadata": {
        "id": "E7H8JaefyVE1"
      },
      "outputs": [],
      "source": [
        "def load_data(filepath):\n",
        "    \"\"\"\n",
        "    Télécharge les paires de synonymes et antonymes\n",
        "    \"\"\"\n",
        "    data = []\n",
        "    with open(filepath, 'r', encoding='utf-8') as f:\n",
        "        for line in f:\n",
        "            pair = line.strip().split()\n",
        "            assert pair[0].startswith('en_') and pair[0].startswith('en_')\n",
        "            data.append((pair[0][3:], pair[1][3:]))\n",
        "    return data\n",
        "\n",
        "def data_to_tensor(data, word_to_index):\n",
        "    indices = [word_to_index[word] for pair in data for word in pair if word in word_to_index]\n",
        "    return torch.tensor(indices).view(-1, 2)"
      ]
    },
    {
      "cell_type": "code",
      "execution_count": 95,
      "metadata": {
        "id": "sMQV__WMyVE2"
      },
      "outputs": [],
      "source": [
        "# Données d'entraînement\n",
        "train_synonyms = load_data(train_synonyms_path)\n",
        "train_antonyms = load_data(train_antonyms_path)\n",
        "\n",
        "# Données d'évaluation\n",
        "evaluation_simlex = pd.read_csv(eval_simlex, sep='\\t') # pd dataframe with columns 'word 1', 'word 2', 'score'\n",
        "\n",
        "# On se restreint au vocabulaire qu'on va utiliser pour éviter de charger des embeddings inutiles\n",
        "vocab = set([word for pair in train_synonyms + train_antonyms for word in pair])\n",
        "eval_vocab = set(evaluation_simlex['word 1']).union(set(evaluation_simlex['word 2']))\n",
        "vocab.update(eval_vocab)\n",
        "\n",
        "glove_word_to_index, glove_embeddings = load_word_vectors(pretrained_model_path, vocab)"
      ]
    },
    {
      "cell_type": "markdown",
      "metadata": {
        "id": "UaBPyOgDyVE2"
      },
      "source": [
        "#### 2.1 Observation du jeu de données SimLex-999. (2 points)\n",
        "\n",
        "Affichez l'histogramme de fréquence des scores de similarité dans le jeu de données SimLex-999. Utilisez `bins=40`. Votre axe des x doit représenter le score de similarité et votre axe des y doit représenter la fréquence. Comment interpréter un score de 0?"
      ]
    },
    {
      "cell_type": "code",
      "execution_count": 96,
      "metadata": {
        "colab": {
          "base_uri": "https://localhost:8080/",
          "height": 565
        },
        "id": "eQ5D2HWCyVE2",
        "outputId": "82e18880-f657-434e-e8d2-73879e37a50d"
      },
      "outputs": [
        {
          "data": {
            "image/png": "[encoded data removed]",
            "text/plain": [
              "<Figure size 1000x600 with 1 Axes>"
            ]
          },
          "metadata": {},
          "output_type": "display_data"
        }
      ],
      "source": [
        "# TODO\n",
        "\n",
        "plt.figure(figsize=(10, 6))\n",
        "plt.hist(evaluation_simlex[\"score\"],bins=40,edgecolor=\"black\")\n",
        "plt.xlabel(\"Score de similarité\")\n",
        "plt.ylabel(\"Fréquence\")\n",
        "plt.title(\"Histogramme de fréquence des scores de similarité dans le jeu de données SimLex-999\")\n",
        "plt.show()\n",
        "\n",
        "\n",
        "# END TODO"
      ]
    },
    {
      "cell_type": "markdown",
      "metadata": {
        "id": "1_KroCVuyVE2"
      },
      "source": [
        "#### 2.2 Corrélation de Spearman\n",
        "\n",
        "\n",
        "La corrélation de Spearman est une mesure de la relation monotone entre deux variables $x$ et $y$. Elle est comprise entre -1 et 1. Plutôt que de comparer les valeurs brutes des variables, elle compare leurs rangs. Elle est calculée comme suit :\n",
        "$$\\rho (x, y) = 1 - \\frac{6 \\sum_{i=1}^n (r_{x_i} - r_{y_i})^2}{n(n^2 - 1)}$$\n",
        "où $r_{x_i}$ est le rang de la i-ème valeur de la variable x, $r_{y_i}$ est le rang de la i-ème valeur de la variable y, $n$ est le nombre total de paires d'observations $(x, y)$.\n",
        "\n",
        "Les rangs sont attribués en ordonnant les valeurs de chaque variable du plus petit au plus grand. La plus petite valeur reçoit le rang 1, la suivante le rang 2, et ainsi de suite.\n",
        "\n",
        "##### Expliquez pourquoi on utilise la corrélation de Spearman plutôt que la corrélation entre les valeurs des variables. (3 points)\n"
      ]
    },
    {
      "cell_type": "markdown",
      "metadata": {
        "id": "ELSm_AvJOj9g"
      },
      "source": [
        "### Corrélation de Spearman\n",
        "\n",
        "La **corrélation de Spearman** est utilisée lorsqu'on veut mesurer une relation monotone entre deux variables, sans que cette relation soit nécessairement linéaire. Elle est préférée à la corrélation de Pearson dans les cas suivants :\n",
        "\n",
        "1. **Robustesse aux valeurs extrêmes** : Elle est moins sensible aux outliers car elle se base sur les rangs des données, et non leurs valeurs brutes.\n",
        "2. **Capture des relations monotones non linéaires** : Elle peut identifier des relations monotones même si elles ne sont pas linéaires.\n",
        "3. **Données ordinales** : Elle convient mieux aux données de type ordonné (classements).\n",
        "4. **Moins d'hypothèses sur les données** : Elle fonctionne avec des données qui ne respectent pas l'hypothèse de normalité ou d'homogénéité des variances, contrairement à la corrélation de Pearson.\n",
        "\n",
        "En résumé, la corrélation de Spearman est plus flexible pour analyser des relations non linéaires ou lorsque les données ne suivent pas une distribution normale."
      ]
    },
    {
      "cell_type": "markdown",
      "metadata": {
        "id": "9IJ_ZcbTyVE2"
      },
      "source": [
        "#### 2.3 Implémentation de la corrélation de Spearman (2 points)\n",
        "\n",
        "Complétez la fonction suivante pour calculer la corrélation de Spearman entre deux listes de valeurs."
      ]
    },
    {
      "cell_type": "code",
      "execution_count": 97,
      "metadata": {
        "id": "uKUiqOlwyVE2"
      },
      "outputs": [],
      "source": [
        "def spearman_rank_correlation(x, y):\n",
        "    \"\"\"\n",
        "    Calcule la corrélation de Spearman entre deux listes de valeurs.\n",
        "\n",
        "    Args:\n",
        "        x   : list of float\n",
        "        y   : list of float\n",
        "\n",
        "    Returns:\n",
        "    La corrélation de Spearman entre les deux listes (float).\n",
        "    \"\"\"\n",
        "    # TODO\n",
        "\n",
        "    # Calcul des rangs pour x et y\n",
        "    r_x = pd.Series(x).rank()\n",
        "    r_y = pd.Series(y).rank()\n",
        "\n",
        "    # Nombre d'éléments dans les listes\n",
        "    n = len(x)\n",
        "\n",
        "    # Application de la formule de Spearman\n",
        "    somme_diff_rangs_carre = ((r_x - r_y) ** 2).sum()\n",
        "    spearman_corr = 1 - (6 * somme_diff_rangs_carre) / (n * (n**2 - 1))\n",
        "\n",
        "    return spearman_corr\n",
        "\n",
        "    # END TODO\n"
      ]
    },
    {
      "cell_type": "markdown",
      "metadata": {
        "id": "IcJLZSOKyVE2"
      },
      "source": [
        "#### 2.4 Évaluation du modèle GloVe (2 points)\n",
        "\n",
        "\n",
        "Retrouvez les plongements du modèle GloVe de tous les mots du jeu de données SimLex-999, puis calculez la similarité cosinus entre les paires.\n",
        "\n",
        "Calculez ensuite la corrélation de Spearman entre les scores de simlex et les similarités cosinus obtenues et affichez-la."
      ]
    },
    {
      "cell_type": "code",
      "execution_count": 98,
      "metadata": {
        "colab": {
          "base_uri": "https://localhost:8080/"
        },
        "id": "StS-5zf0yVE2",
        "outputId": "025e5ffa-c6f4-49c5-dd5d-336e17f1bbe3"
      },
      "outputs": [
        {
          "name": "stdout",
          "output_type": "stream",
          "text": [
            "Corrélation de Spearman: 0.29\n"
          ]
        }
      ],
      "source": [
        "# TODO\n",
        "\n",
        "def evaluate_glove_model(evaluation_simlex, glove_embeddings, glove_word_to_index):\n",
        "\n",
        "    # Extraction des paires de mots et leurs scores depuis SimLex-999\n",
        "    word_pairs = evaluation_simlex[['word 1', 'word 2', 'score']].values\n",
        "\n",
        "    # Initialisation des listes pour les similarités cosinus et les scores SimLex\n",
        "    cosine_similarities = []\n",
        "    simlex_reference_scores = []\n",
        "\n",
        "    # Boucle sur chaque paire de mots pour calculer la similarité cosinus\n",
        "    for word1, word2, score in word_pairs:\n",
        "        # Vérifie si les mots sont présents dans le modèle GloVe\n",
        "        if word1 in glove_word_to_index and word2 in glove_word_to_index:\n",
        "            # Obtention des vecteurs d'embeddings pour les deux mots\n",
        "            embedding1 = glove_embeddings[glove_word_to_index[word1]].reshape(1, -1)\n",
        "            embedding2 = glove_embeddings[glove_word_to_index[word2]].reshape(1, -1)\n",
        "\n",
        "            # Calcul de la similarité cosinus entre les deux vecteurs d'embeddings\n",
        "            cosine_sim = cosine_similarity(embedding1, embedding2)[0][0]\n",
        "\n",
        "            # Stockage de la similarité cosinus calculée\n",
        "            cosine_similarities.append(cosine_sim)\n",
        "\n",
        "            # Stockage du score de similarité provenant de SimLex\n",
        "            simlex_reference_scores.append(score)\n",
        "\n",
        "    # Calcul de la corrélation de Spearman entre les similarités cosinus et les scores SimLex\n",
        "    spearman_corr = spearman_rank_correlation(cosine_similarities, simlex_reference_scores)\n",
        "\n",
        "    return spearman_corr\n",
        "\n",
        "\n",
        "# Calcul des la corrélation\n",
        "spearman_corr = evaluate_glove_model(evaluation_simlex, glove_embeddings, glove_word_to_index)\n",
        "print(f\"Corrélation de Spearman: {spearman_corr:.2f}\")\n",
        "\n",
        "# END TODO"
      ]
    },
    {
      "cell_type": "markdown",
      "metadata": {
        "id": "ELxl1BMqyVE2"
      },
      "source": [
        "Résultat attendu: 0.29"
      ]
    },
    {
      "cell_type": "markdown",
      "metadata": {
        "id": "f6Cyp8ZvyVE2"
      },
      "source": [
        "#### 2.5 Interprétation du résultat (3 points)\n",
        "\n",
        "Qu'est ce que ce nombre représente et que peut-on en conclure sur la qualité des plongements GloVe (2 conclusions) ?"
      ]
    },
    {
      "cell_type": "markdown",
      "metadata": {
        "id": "LsgXdTI4dp3x"
      },
      "source": [
        "### Interprétation du résultat (Corrélation de Spearman = 0.29)\n",
        "\n",
        "La corrélation de Spearman de **0.29** indique une **corrélation positive faible** entre les similarités cosinus calculées par les plongements GloVe et les scores humains du jeu de données SimLex-999. Cela signifie que GloVe parvient à capturer certaines relations sémantiques entre les mots, mais de manière limitée.\n",
        "\n",
        "### Conclusions sur la qualité des plongements GloVe :\n",
        "\n",
        "1. **Corrélation positive mais faible** :\n",
        "   - La corrélation de **0.29** montre une certaine cohérence entre les plongements GloVe et les jugements humains de similarité, mais cette cohérence est faible, ce qui indique que GloVe ne capture pas parfaitement les similarités perçues par les humains.\n",
        "\n",
        "2. **Limites dans la capture des relations sémantiques** :\n",
        "   - Les plongements GloVe ont des limitations lorsqu'il s'agit de capturer des relations sémantiques complexes ou contextuelles, ce qui pourrait expliquer le score relativement faible comparé à des modèles plus avancés (par exemple, les modèles basés sur le contexte comme BERT).\n"
      ]
    },
    {
      "cell_type": "markdown",
      "metadata": {
        "id": "HdfO6tOUyVE2"
      },
      "source": [
        "### 3. Description de la méthode contrastive (33 Points)\n",
        "\n",
        "Nous allons maintenant implémenter une méthode contrastive de plongements de mots. Elle vise à améliorer les plongements lexicaux de mots en tenant compte des synonymes et antonymes.\n",
        "\n",
        "Notre modèle se basera simplement sur une matrice de plongements de mots, qui associe à chaque mot un vecteur de plongement.\n",
        "\n",
        "L'idée est d'entraîner ce modèle à rapprocher les plongements de synonymes et d'éloigner ceux d'antonymes.\n",
        "\n",
        "La cellule suivante définit le modèle et ses attributs."
      ]
    },
    {
      "cell_type": "code",
      "execution_count": 99,
      "metadata": {
        "id": "KkpVhOX_yVE2"
      },
      "outputs": [],
      "source": [
        "class ContrastiveWordEmbeddingModel(nn.Module):\n",
        "    def __init__(self, embeddings, device='cpu', margin_plus=0.6, margin_minus=0., regularization=1e-9):\n",
        "        super(ContrastiveWordEmbeddingModel, self).__init__()\n",
        "\n",
        "        self.device = device\n",
        "\n",
        "        # Hyperparamètres pour les fonctions de coût\n",
        "        self.margin_plus = margin_plus\n",
        "        self.margin_minus = margin_minus\n",
        "        self.regularization = regularization\n",
        "\n",
        "        # Initialisation des plongements de mots\n",
        "        self.embeddings = nn.Embedding.from_pretrained(embeddings.detach().clone(), freeze=False).to(self.device)\n",
        "        self.original_embeddings = nn.Embedding.from_pretrained(embeddings.detach().clone(), freeze=True).to(self.device)\n"
      ]
    },
    {
      "cell_type": "markdown",
      "metadata": {
        "id": "ECFcLHqUyVE3"
      },
      "source": [
        "#### 3.1 Création des négatifs\n",
        "\n",
        "Pendant l'entraînement, au lieu de traiter tout le jeu d'entraînement d'un coup, nous allons avoir des lots (batchs) de paires de synonymes $B_S$ et d'antonymes $B_A$.\n",
        "\n",
        "Dans un lot de synonymes, on définit le négatif d'un mot comme le mot du lot le plus proche qui n'est pas dans la même paire. Intuitivement, c'est le mot que le modèle devrait confondre le plus avec le synonyme. Similairement, dans un lot d'antonymes, on définit le négatif d'un mot comme le mot du lot le plus éloigné qui n'est pas dans la même paire.\n",
        "\n",
        "On répète ce processus pour chaque mot de chaque paire de synonymes et d'antonymes.\n",
        "\n",
        "*Attention, un mot peut apparaître plusieurs fois dans un lot avec des synonymes ou antonymes différents, et il ne peut être le négatif d'aucun de ses synonymes, ou antonymes.*\n",
        "\n",
        "##### 3.1.1 Exemple pour illustrer l'implémentation\n",
        "\n",
        "Prenons un exemple avec un lot $B_S$ de synonymes de taille 3. On veut construire le lot de négatifs $T_S$\n",
        "\n",
        "$B_S$:\n",
        "- (arbre, plante)\n",
        "- (voiture, véhicule)\n",
        "- (arbre, buisson)\n",
        "\n",
        "On a 5 mots uniques dans le lot: arbre, plante, voiture, véhicule, buisson. Supposons que la matrice de similarité cosinus soit la suivante :\n",
        "\n",
        "|       | arbre | plante | voiture | véhicule | buisson |\n",
        "|-------|-------|--------|--------|----------|---------|\n",
        "| arbre | 1     | 0.8    | 0.1    | 0.2      | 0.9     |\n",
        "| plante| 0.8   | 1      | 0.3    | 0.4      | 0.7     |\n",
        "| voiture| 0.1  | 0.3    | 1      | 0.9      | 0.2     |\n",
        "| véhicule| 0.2 | 0.4    | 0.9    | 1        | 0.3     |\n",
        "| buisson| 0.9  | 0.7    | 0.2    | 0.3      | 1       |\n",
        "\n",
        "\n",
        "On commence par calculer les voisins de chaque mot du lot $B_S$. Le voisin d'un mot $m$ est défini comme tout mot qui apparait dans au moins une paire avec $m$ dans $B_S$. Un mot est aussi considéré comme son propre voisin.\n",
        "\n",
        "- voisins de arbre : arbre, plante, buisson\n",
        "- voisins de plante : plante, arbre\n",
        "- voisins de voiture : voiture, véhicule\n",
        "- voisins de véhicule : véhicule, voiture\n",
        "- voisins de buisson : buisson, arbre\n",
        "\n",
        "Après avoir masqué les voisins, la matrice est :\n",
        "\n",
        "|       | arbre | plante | voiture | véhicule | buisson |\n",
        "|-------|-------|--------|--------|----------|---------|\n",
        "| arbre | -inf  | -inf   | 0.1    | 0.2      | -inf    |\n",
        "| plante| -inf  | -inf   | 0.3    | 0.4      | 0.7     |\n",
        "| voiture| 0.1  | 0.3    | -inf   | -inf     | 0.2     |\n",
        "| véhicule| 0.2 | 0.4    | -inf   | -inf     | 0.3     |\n",
        "| buisson| -inf | 0.7    | 0.2    | 0.3      | -inf    |\n",
        "\n",
        "Pour calculer les négatifs, on prend le maximum de chaque ligne (donc le mot le plus similaire qui n'est pas un voisin) :\n",
        "\n",
        "Ici,\n",
        "- le négatif d'arbre est véhicule\n",
        "- le négatif de plante est buisson\n",
        "- le négatif de voiture est plante\n",
        "- le négatif de véhicule est plante\n",
        "- le négatif de buisson est plante\n",
        "\n",
        "En reprenant le batch $B_S$:\n",
        "- (arbre, plante)\n",
        "- (voiture, véhicule)\n",
        "- (arbre, buisson)\n",
        "\n",
        "$T_S$ sera composé de paires composées du négatif de chaque élément de $B_S$ :\n",
        "\n",
        "$B_S$ -> $T_S$\n",
        "- (arbre, plante) $\\rightarrow$ (véhicule, buisson), car le négatif d'arbre est véhicule et le négatif de plante est buisson\n",
        "- (voiture, véhicule) $\\rightarrow$ (plante, plante), car le négatif de voiture est plante et le négatif de véhicule est plante\n",
        "- (arbre, buisson) $\\rightarrow$ (véhicule, plante), car le négatif d'arbre est véhicule et le négatif de buisson est plante\n",
        "\n",
        "$T_S$ sera donc :\n",
        "- (véhicule, buisson)\n",
        "- (plante, plante)\n",
        "- (véhicule, plante)"
      ]
    },
    {
      "cell_type": "markdown",
      "metadata": {
        "id": "n1-QQZAdyVE3"
      },
      "source": [
        "##### 3.1.2 Implémentez la fonction `prepare_neighbors` qui renvoit la liste des voisins de chaque mot dans le lot. (4 points)\n",
        "\n",
        "Les voisins d'un mot $m$ sont tous les mots du lot qui apparaissent dans au moins une paire avec $m$. Utilisez les bons indices (indice dans la matrice d'embeddings et indice dans le lot). Le résultat est une liste de liste de voisins, où `neighbors[i]` est la liste des voisins du mot `i` dans le lot."
      ]
    },
    {
      "cell_type": "code",
      "execution_count": 108,
      "metadata": {
        "id": "Mbi0ErmMyVE3"
      },
      "outputs": [],
      "source": [
        "def prepare_neighbors(index_pairs, unique_idx, index_to_idx):\n",
        "    \"\"\"\n",
        "    Prépare les voisins pour chaque mot dans les paires de mots.\n",
        "\n",
        "    Args :\n",
        "        index_pairs     : torch.Tensor de seconde dimension 2\n",
        "        Tensor contenant les indices des embeddings des mots dans le vocabulaire.\n",
        "        Des indices qui sont reliés ensemble par une ligne dans ce tenseur ont\n",
        "        une relation sémantique entre eux (synonymes ou antonymes).\n",
        "\n",
        "        unique_idx      : set\n",
        "        Ensemble de tous les indices qui sont mentionnés dans la liste `index_pairs`.\n",
        "\n",
        "        index_to_idx    : dict\n",
        "        Dictionnaire associant un indice mentionné dans `index_pairs` à son indice dans\n",
        "        la liste qui sera retournée. Par exemple, si dans ce dictionnaire, la clé 4 est\n",
        "        associée à la valeur 12, cela veut dire que les voisins du mot 4 dans le vocabulaire\n",
        "        seront retournés à l'indice 12 dans la liste de retour.\n",
        "\n",
        "    Returns:\n",
        "    Une liste où chaque élément est une liste des indices des voisins pour chaque mot (l'indice dans la liste correspond à l'indice unique).\n",
        "    \"\"\"\n",
        "    # TODO\n",
        "\n",
        "    # Création d'une liste vide pour chaque mot unique\n",
        "    neighbors = [[] for _ in range(len(unique_idx))]\n",
        "\n",
        "    # Parcour de chaque paire de mots dans index_pairs\n",
        "    for word1, word2 in index_pairs.tolist():\n",
        "        idx1 = index_to_idx[word1]  # Obtenir l'indice mappé de word1\n",
        "        idx2 = index_to_idx[word2]  # Obtenir l'indice mappé de word2\n",
        "\n",
        "        # Ajout de chaque mot comme voisin de lui-même et de l'autre mot de la paire\n",
        "        neighbors[idx1].append(idx1)\n",
        "        neighbors[idx1].append(idx2)\n",
        "        neighbors[idx2].append(idx2)\n",
        "        neighbors[idx2].append(idx1)\n",
        "\n",
        "    return neighbors\n",
        "\n",
        "    # END TODO"
      ]
    },
    {
      "cell_type": "code",
      "execution_count": 109,
      "metadata": {
        "colab": {
          "base_uri": "https://localhost:8080/"
        },
        "id": "dEWpEMK2yVE3",
        "outputId": "4267cd90-56a2-40d6-df46-cea0f0f9c1bb"
      },
      "outputs": [
        {
          "name": "stdout",
          "output_type": "stream",
          "text": [
            "[[0, 2], [1, 4], [2, 0, 2, 3], [3, 2], [4, 1]]\n"
          ]
        }
      ],
      "source": [
        "# Exemple\n",
        "\n",
        "index_pairs = torch.tensor([[0, 12], [12, 31], [53, 4]])\n",
        "unique_idx = {0, 4, 12, 31, 53}\n",
        "index_to_idx = {0: 0, 4: 1, 12: 2, 31: 3, 53: 4}\n",
        "print(prepare_neighbors(index_pairs, unique_idx, index_to_idx))\n"
      ]
    },
    {
      "cell_type": "markdown",
      "metadata": {
        "id": "IzIQbuSqyVE4"
      },
      "source": [
        "Réponse attendue\n",
        "\n",
        "`[[0, 2], [1, 4], [2, 0, 2, 3], [3, 2], [4, 1]]`"
      ]
    },
    {
      "cell_type": "markdown",
      "metadata": {
        "id": "RvLlZTD-yVE4"
      },
      "source": [
        "##### 3.1.3 Implémentez la fonction `select_negatives` qui renvoit un dictionnaire qui associe à chaque élément son négatif. (4 points)\n",
        "\n",
        "Pour chaque élément du lot, on cherche le voisin le plus proche qui n'est pas le voisin de l'autre élément de la paire.\n",
        "\n",
        "Utilisez un masque pour cacher, dans la matrice de similarité, les voisins.\n",
        "\n",
        "La fonction utilise un paramètre `synonym` qui indique si on travaille sur un lot de synonymes ou d'antonymes. En cas de synonymes, on cherche le voisin le plus proche qui n'est pas un voisin de l'autre élément de la paire. En cas d'antonymes, on cherche le voisin le plus éloigné qui n'est pas un voisin de l'autre élément de la paire."
      ]
    },
    {
      "cell_type": "code",
      "execution_count": 110,
      "metadata": {
        "id": "hFQd3_kiyVE4"
      },
      "outputs": [],
      "source": [
        "def select_negatives(indices, similarity_matrix, neighbors, synonym=True):\n",
        "    \"\"\"\n",
        "    Sélectionne les exemples négatifs à partir de la matrice de similarité et des voisins.\n",
        "\n",
        "    Args :\n",
        "        indices             : torch.Tensor (vocab_size)\n",
        "        Indices des mots présents dans le vocabulaires\n",
        "\n",
        "        similarity_matrix   : torch.Tensor (vocab_size, vocab_size)\n",
        "        Matrice de similarité entre tous les mots présents dans le vocabulaire.\n",
        "\n",
        "        neighbors           : list of lists\n",
        "        Liste des voisins de chaque mot. Par exemple, le premier élément de la liste\n",
        "        contiendra tous les voisins du mot 0 dans le vocabulaire.\n",
        "\n",
        "        synonym             : bool, optional (default=True)\n",
        "        Indique si l'on cherche des négatifs pour les synonymes (True) ou pour les antonymes (False).\n",
        "\n",
        "    Returns:\n",
        "    Dictionnaire mappant les mots avec leurs indices de négatifs {mot_index: négatif_index}.\n",
        "    \"\"\"\n",
        "    # TODO HINT: Utilisez un mask pour ignorer les voisins\n",
        "\n",
        "    # Détermition du masque\n",
        "    mask_value = float('-inf') if synonym else float('inf')\n",
        "\n",
        "    # Application du masquage dans la matrice de similarité pour ne pas tenir compte des voisins\n",
        "    for idx, neighbor_list in enumerate(neighbors):\n",
        "        for neighbor in neighbor_list:\n",
        "            similarity_matrix[idx][neighbor] = mask_value\n",
        "\n",
        "    # Création du dictionnaire associant chaque mot à son exemple négatif, en se basant sur la similarité\n",
        "    negative_dict = {\n",
        "        word_idx: (similarity_matrix[i].argmax() if synonym else similarity_matrix[i].argmin()).item()\n",
        "        for i, word_idx in enumerate(indices.tolist())\n",
        "    }\n",
        "\n",
        "    return negative_dict\n",
        "\n",
        "    # END TODO"
      ]
    },
    {
      "cell_type": "code",
      "execution_count": 111,
      "metadata": {
        "colab": {
          "base_uri": "https://localhost:8080/"
        },
        "id": "O4iklsmnyVE4",
        "outputId": "5d9b1eee-00bd-4f4a-ebcf-4c99352988d8"
      },
      "outputs": [
        {
          "name": "stdout",
          "output_type": "stream",
          "text": [
            "{0: 1, 1: 3, 2: 4, 3: 1, 4: 2}\n"
          ]
        }
      ],
      "source": [
        "# Exemple\n",
        "\n",
        "indices = torch.tensor([0, 1, 2, 3, 4])\n",
        "neighbors = [[0, 2], [1, 4], [2, 0, 2, 3], [3, 2], [4, 1]]\n",
        "\n",
        "similarity_matrix = torch.tensor([\n",
        "    [ 1.0000, -0.4263, -0.7167, -0.9838, -0.5823],\n",
        "    [-0.4263,  1.0000, -0.1600,  0.5088, -0.3708],\n",
        "    [-0.7167, -0.1600,  1.0000,  0.7247,  0.5631],\n",
        "    [-0.9838,  0.5088,  0.7247,  1.0000,  0.4394],\n",
        "    [-0.5823, -0.3708,  0.5631,  0.4394,  1.0000]\n",
        "    ])\n",
        "\n",
        "print(select_negatives(indices, similarity_matrix, neighbors, synonym=True))"
      ]
    },
    {
      "cell_type": "markdown",
      "metadata": {
        "id": "49nMZrCLyVE4"
      },
      "source": [
        "Réponse attendue\n",
        "\n",
        "`{0: 1, 1: 3, 2: 4, 3: 1, 4: 2}`"
      ]
    },
    {
      "cell_type": "markdown",
      "metadata": {
        "id": "-4sYtDf-yVE4"
      },
      "source": [
        "##### 3.1.4 Implémentez la fonction `run_negative_extraction` qui prépare les paires de synonymes et d'antonymes et appelle `prepare_neighbors` et `select_negatives`. (4 points)\n",
        "\n",
        "Préparez les indices uniques des mots du batch, calculez la similarité des mots, et appelez `prepare_neighbors` et `select_negatives`."
      ]
    },
    {
      "cell_type": "code",
      "execution_count": 129,
      "metadata": {
        "id": "lloif7mTyVE4"
      },
      "outputs": [],
      "source": [
        "def run_negative_extraction(model, index_pairs, synonym=True):\n",
        "    \"\"\"\n",
        "    Extrait les exemples négatifs pour un ensemble de paires de mots.\n",
        "\n",
        "    Args :\n",
        "        index_pairs : torch.Tensor de seconde dimension 2\n",
        "        Contient les indices des mots.\n",
        "\n",
        "        synonym     : bool, optional (default=True)\n",
        "        Indique si l'on cherche des négatifs pour les synonymes (True) ou pour les antonymes (False).\n",
        "\n",
        "    Returns:\n",
        "    Dictionnaire mappant les indices des mots avec leurs indices de négatifs {mot_index: négatif_index}.\n",
        "    \"\"\"\n",
        "    # TODO\n",
        "\n",
        "    # Collecte des indices uniques présents dans les paires\n",
        "    unique_ids = {idx.item() for row in index_pairs for idx in row}\n",
        "    index_mapping = {idx: i for i, idx in enumerate(sorted(unique_ids))}\n",
        "\n",
        "    # Construction de la matrice de similarité\n",
        "    indices_tensor = torch.tensor(sorted(unique_ids), device=model.device)\n",
        "    embeddings_subset = model.embeddings(indices_tensor)\n",
        "    similarity_matrix = cosine_similarity(embeddings_subset, embeddings_subset)\n",
        "\n",
        "    # Préparation des voisins via prepare_neighbors\n",
        "    neighbor_list = prepare_neighbors(index_pairs, unique_ids, index_mapping)\n",
        "\n",
        "    # Sélection des exemples négatifs via select_negatives\n",
        "    negative_pairs = select_negatives(indices_tensor, similarity_matrix, neighbor_list, synonym)\n",
        "\n",
        "    # Vérification de la présence de chaque index dans les négatifs\n",
        "    for idx in sorted(unique_ids):\n",
        "        if idx not in negative_pairs:\n",
        "            # Assignation  d'une valeur par défaut\n",
        "            negative_pairs[idx] = random.choice(list(unique_ids - {idx}))\n",
        "\n",
        "    return negative_pairs\n",
        "\n",
        "    # END TODO"
      ]
    },
    {
      "cell_type": "markdown",
      "metadata": {
        "id": "D8LWPYx4yVE5"
      },
      "source": [
        "#### 3.2 Fonctions de coût\n",
        "\n",
        "Pour chaque paire de synonymes $(x^l, x^r)$ *pour x left et x right* dans le lot $B_S$, nous trouvons un négatif $(t^l, t^r)$ ce qui constitue le lot $T_S$:\n",
        "- $ t^l $ est le mot dans le lot le plus proche de $ x^l $ mais qui n'est pas $ x^r $.\n",
        "- $ t^r $ est le mot dans le lot le plus proche de $ x^r $ mais qui n'est pas $ x^l $.\n",
        "\n",
        "De même, pour chaque paire d'antonymes $(x^l, x^r)$ dans le lot $B_A$, nous trouvons un négatif $(t^l, t^r)$ ce qui constitue le lot $T_A$:\n",
        "- $ t^l $ est le mot dans le lot le plus éloigné de $ x^l $ mais qui n'est pas $ x^r $.\n",
        "- $ t^r $ est le mot dans le lot le plus éloigné de $ x^r $ mais qui n'est pas $ x^l $.\n",
        "\n",
        "\n",
        "Comparer un mot à son synonyme (ou antonyme) et à son négatif permet d'entraîner le modèle sur des exemples difficiles qui forcent le modèle à apprendre des représentations plus robustes.\n",
        "\n",
        "Il y aura trois fonctions de coût :\n",
        "1. **Attraction** : Attire les synonymes plus proches les uns des autres.\n",
        "2. **Répulsion** : Repousse les antonymes plus loin les uns des autres.\n",
        "3. **Régularisation** : Évite que les plongements ne s'éloignent trop de ceux du modèle pré-entraîné.\n",
        "\n",
        "Les fonctions de coût sont définies comme suit, en sommant sur `i`, les paires de synonymes et d'antonymes dans les lots $B_S$ et $B_A$ :\n",
        "\n",
        "1. **Attraction** :\n",
        "$$ S(B_S, T_S) = \\sum_{i=1}^{|B_S|} \\left[ \\max \\left(0, \\delta_{syn} + x_i^l t_i^l - x_i^l x_i^r \\right) + \\max \\left( 0, \\delta_{syn} + x_i^r t_i^r - x_i^l x_i^r \\right) \\right] $$\n",
        "\n",
        "1. **Répulsion** :\n",
        "$$ A(B_A, T_A) = \\sum_{i=1}^{|B_A|} \\left[ \\max \\left(0, \\delta_{ant} + x_i^l x_i^r - x_i^l t_i^l \\right) + \\max \\left( 0, \\delta_{ant} + x_i^r x_i^l - x_i^r t_i^r \\right) \\right] $$\n",
        "\n",
        "1. **Régularisation** :\n",
        "$$ R(B_S, B_A) = \\sum_{x_i \\in V(B_S \\cup B_A)} \\lambda_{reg} \\| \\hat{x}_i - x_i \\|^2 $$\n",
        "\n",
        "La fonction de coût totale est la somme de ces trois termes :\n",
        "$$ C(B_S, T_S, B_A, T_A) = S(B_S, T_S) + A(B_A, T_A) + R(B_S, B_A) $$\n",
        "\n",
        "$\\delta_{syn}$, $\\delta_{ant}$ et $\\lambda_{reg}$ sont des hyperparamètres."
      ]
    },
    {
      "cell_type": "markdown",
      "metadata": {
        "id": "tpQcSf0eyVE5"
      },
      "source": [
        "Avec l'exemple précédent, prenons\n",
        "> + $x_i^l$ : voiture\n",
        "> + $x_i^r$: véhicule\n",
        "> + $t_i^l$: plante\n",
        ">\n",
        "> On veut que voiture et véhicule aient un plus grand produit scalaire que voiture et plante, donc que $\\delta_{syn} + x_i^l t_i^l - x_i^l x_i^r <0$, et donc que $S$ soit minimisé. De même pour la deuxième partie de l'équation, symmétrique, avec le 2nd élément du couple."
      ]
    },
    {
      "cell_type": "markdown",
      "metadata": {
        "id": "XLNDUg1uyVE5"
      },
      "source": [
        "##### 3.2.1 Implémentez la fonction `synonym_cost` qui calcule la fonction de coût d'attraction (sur les paires de synonymes). (5 points)\n",
        "\n",
        "$$ S(B_S, T_S) = \\sum_{i=1}^{|B_S|} \\left[ \\max \\left(0, \\delta_{syn} + x_i^l t_i^l - x_i^l x_i^r \\right) + \\max \\left( 0, \\delta_{syn} + x_i^r t_i^r - x_i^l x_i^r \\right) \\right] $$\n",
        "\n",
        "Le membre de gauche pénalise si le mot de gauche est plus éloigné de son négatif que de son synonyme. De même, le membre de droite pénalise si le mot de gauche est plus éloigné de son négatif que de son synonyme.\n"
      ]
    },
    {
      "cell_type": "code",
      "execution_count": 141,
      "metadata": {
        "id": "O4qFoLfmyVE5"
      },
      "outputs": [],
      "source": [
        "def synonym_cost(model, synonym_pairs, synonym_negatives):\n",
        "    \"\"\"\n",
        "    Calcule le coût d'attraction pour les paires de synonymes.\n",
        "\n",
        "    synonym_pairs: liste de tuples d'indices de paires de synonymes\n",
        "    synonym_negatives: dictionnaire de mots avec leurs négatifs {mot_index: négatif_index}\n",
        "\n",
        "    Returns:\n",
        "    torch.Tensor, coût total pour les paires de synonymes\n",
        "    \"\"\"\n",
        "    # HINT: Utiliser torch.relu pour max(0, x)\n",
        "    # TODO\n",
        "\n",
        "    # Extraction des indices de chaque mot de la paire de synonymes\n",
        "    left_indices = torch.tensor([pair[0] for pair in synonym_pairs], device=model.device)\n",
        "    right_indices = torch.tensor([pair[1] for pair in synonym_pairs], device=model.device)\n",
        "\n",
        "    # Extraction des indices des mots négatifs correspondants à chaque mot des paires\n",
        "    negative_left_indices = torch.tensor([synonym_negatives[pair[0].item()] for pair in synonym_pairs], device=model.device)\n",
        "    negative_right_indices = torch.tensor([synonym_negatives[pair[1].item()] for pair in synonym_pairs], device=model.device)\n",
        "\n",
        "    # Récupération des embeddings pour chaque mot\n",
        "    left_embeddings = model.embeddings(left_indices)\n",
        "    right_embeddings = model.embeddings(right_indices)\n",
        "    negative_left_embeddings = model.embeddings(negative_left_indices)\n",
        "    negative_right_embeddings = model.embeddings(negative_right_indices)\n",
        "\n",
        "    # Calcul du produit scalaire entre les embeddings des paires de synonymes\n",
        "    left_dot_right = torch.sum(left_embeddings * right_embeddings, dim=1)\n",
        "\n",
        "    # Calcul du produit scalaire entre les mots et leurs négatifs respectifs\n",
        "    left_dot_negative_left = torch.sum(left_embeddings * negative_left_embeddings, dim=1)\n",
        "    right_dot_negative_right = torch.sum(right_embeddings * negative_right_embeddings, dim=1)\n",
        "\n",
        "    # Calcul du coût pour le mot de gauche avec relu pour max(0, x)\n",
        "    left_cost = torch.relu(left_dot_negative_left - left_dot_right + model.margin_plus)\n",
        "\n",
        "    # Calcul du coût pour le mot de droite avec relu pour max(0, x)\n",
        "    right_cost = torch.relu(right_dot_negative_right - left_dot_right + model.margin_plus)\n",
        "\n",
        "    # Calcul du coût total en sommant les coûts gauche et droite\n",
        "    total_cost = left_cost + right_cost\n",
        "\n",
        "    return torch.sum(total_cost)\n",
        "\n",
        "    # END TODO"
      ]
    },
    {
      "cell_type": "markdown",
      "metadata": {
        "id": "8hzUlX4-yVE5"
      },
      "source": [
        "##### 3.2.2 Implémentez la fonction `antonym_cost` qui calcule la fonction de coût de répulsion (sur les paires d'antonymes). (5 points)\n",
        "\n",
        "$$ A(B_A, T_A) = \\sum_{i=1}^{|B_A|} \\left[ \\max \\left(0, \\delta_{ant} + x_i^l x_i^r - x_i^l t_i^l \\right) + \\max \\left( 0, \\delta_{ant} + x_i^r x_i^l - x_i^r t_i^r \\right) \\right] $$\n",
        "\n",
        "Le membre de gauche pénalise si le mot de gauche est plus éloigné de son antonyme que de son négatif. De même, le membre de droite pénalise si le mot de gauche est plus éloigné de son antonyme que de son négatif."
      ]
    },
    {
      "cell_type": "code",
      "execution_count": 142,
      "metadata": {
        "id": "QcF9RJKfyVE5"
      },
      "outputs": [],
      "source": [
        "def antonym_cost(model, antonym_pairs, antonym_negatives):\n",
        "    \"\"\"\n",
        "    Calcule le coût de répulsion pour les paires d'antonymes.\n",
        "\n",
        "    antonym_pairs: liste de tuples d'indices de paires d'antonymes\n",
        "    antonym_negatives: dictionnaire de mots avec leurs négatifs {mot_index: négatif_index}\n",
        "\n",
        "    Returns:\n",
        "    torch.Tensor, coût total pour les paires d'antonymes\n",
        "    \"\"\"\n",
        "    # HINT: Utiliser torch.relu pour max(0, x)\n",
        "    # TODO\n",
        "\n",
        "    # Conversion des indices des paires d'antonymes en tenseurs torch\n",
        "    left_antonym_indices = torch.tensor([pair[0] for pair in antonym_pairs], device=model.device)\n",
        "    right_antonym_indices = torch.tensor([pair[1] for pair in antonym_pairs], device=model.device)\n",
        "\n",
        "    # Conversion des indices des négatifs associés à chaque mot\n",
        "    negative_left_indices = torch.tensor([antonym_negatives[pair[0].item()] for pair in antonym_pairs], device=model.device)\n",
        "    negative_right_indices = torch.tensor([antonym_negatives[pair[1].item()] for pair in antonym_pairs], device=model.device)\n",
        "\n",
        "    # Récupération des embeddings des mots pour chaque paire d'antonymes et leurs négatifs\n",
        "    left_antonym_embeddings = model.embeddings(left_antonym_indices)\n",
        "    right_antonym_embeddings = model.embeddings(right_antonym_indices)\n",
        "    negative_left_embeddings = model.embeddings(negative_left_indices)\n",
        "    negative_right_embeddings = model.embeddings(negative_right_indices)\n",
        "\n",
        "    # Calcul de la similarité entre les embeddings des antonymes\n",
        "    similarity_antonyms = torch.sum(left_antonym_embeddings * right_antonym_embeddings, dim=1)\n",
        "    # Calcul de la similarité entre les embeddings des mots et leurs négatifs\n",
        "    similarity_left_negative = torch.sum(left_antonym_embeddings * negative_left_embeddings, dim=1)\n",
        "    similarity_right_negative = torch.sum(right_antonym_embeddings * negative_right_embeddings, dim=1)\n",
        "\n",
        "    # Application de la marge pour les antonymes (max(0, x))\n",
        "    left_repulsion_cost = torch.relu(similarity_antonyms - similarity_left_negative + model.margin_minus)\n",
        "    right_repulsion_cost = torch.relu(similarity_antonyms - similarity_right_negative + model.margin_minus)\n",
        "\n",
        "    # Calcul du coût total en additionnant les coûts de répulsion des paires gauche et droite\n",
        "    total_repulsion_cost = left_repulsion_cost + right_repulsion_cost\n",
        "    return torch.sum(total_repulsion_cost)\n",
        "\n",
        "    # END TODO"
      ]
    },
    {
      "cell_type": "markdown",
      "metadata": {
        "id": "iEdh3UPAyVE5"
      },
      "source": [
        "##### 3.2.3 Implémentez la fonction `regularization_cost` qui calcule la fonction de coût de régularisation. (4 points)\n",
        "\n",
        "$$ R(B_S, B_A) = \\sum_{x_i \\in V(B_S \\cup B_A)} \\lambda_{reg} \\| \\hat{x}_i - x_i \\|^2 $$"
      ]
    },
    {
      "cell_type": "code",
      "execution_count": 143,
      "metadata": {
        "id": "zVqeVstKyVE5"
      },
      "outputs": [],
      "source": [
        "def regularization_cost(model, synonym_pairs, antonym_pairs):\n",
        "    \"\"\"\n",
        "    Calcule le coût de régularisation pour les paires de synonymes et antonymes.\n",
        "\n",
        "    synonym_pairs: liste de tuples d'indices de paires de synonymes\n",
        "    antonym_pairs: liste de tuples d'indices de paires d'antonymes\n",
        "\n",
        "    Returns:\n",
        "    torch.Tensor, coût total de régularisation\n",
        "    \"\"\"\n",
        "    # TODO\n",
        "\n",
        "    # Extraction de tous les indices uniques des paires de synonymes et d'antonymes\n",
        "    unique_indices = set([idx for pair in synonym_pairs for idx in pair] +\n",
        "                         [idx for pair in antonym_pairs for idx in pair])\n",
        "\n",
        "    # Convertion des indices uniques en un tenseur\n",
        "    indices_tensor = torch.tensor(list(unique_indices), device=model.device)\n",
        "\n",
        "    # Récupération des embeddings originaux à partir des indices.\n",
        "    original_embeddings = model.original_embeddings(indices_tensor)\n",
        "\n",
        "    # Récupération des embeddings actuels à partir des indices.\n",
        "    current_embeddings = model.embeddings(indices_tensor)\n",
        "\n",
        "    # Calcul de la différence entre les embeddings originaux et actuels.\n",
        "    diff_norms = torch.norm(original_embeddings - current_embeddings, p=2, dim=1)**2\n",
        "\n",
        "    reg_cost = model.regularization * torch.sum(diff_norms)\n",
        "\n",
        "    return reg_cost\n",
        "\n",
        "    # END TODO"
      ]
    },
    {
      "cell_type": "markdown",
      "metadata": {
        "id": "QvMxrQ0oyVE5"
      },
      "source": [
        "#### 3.3 Mise en place\n",
        "##### 3.3.1 Implémentez la fonction `forward` qui utilise les fonctions définies plus tôt pour calculer le coût total. (4 points)\n",
        "\n",
        "La fonction prend en entrée un lot de synonymes et un lot d'antonymes, c'est-à-dire des paires de synonymes et des paires d'antonymes.\n",
        "\n",
        "Vous devez trouver les négatifs de tous les mots des lots au moyen de votre fonction  run_negative_extraction puis calculer la fonction de coût totale."
      ]
    },
    {
      "cell_type": "code",
      "execution_count": 146,
      "metadata": {
        "id": "Panx90mbyVE6"
      },
      "outputs": [],
      "source": [
        "def forward(model, synonym_pairs, antonym_pairs):\n",
        "    \"\"\"\n",
        "    Fonction forward pour calculer le coût total.\n",
        "\n",
        "    Args :\n",
        "        synonym_pairs   :\n",
        "        Liste de tuples d'indices de paires de synonymes\n",
        "\n",
        "        antonym_pairs   :\n",
        "        Liste de tuples d'indices de paires d'antonymes\n",
        "\n",
        "    Returns:\n",
        "    Tenseur contenant le coût total (attraction, répulsion et régularisation)\n",
        "    \"\"\"\n",
        "    # TODO\n",
        "\n",
        "    # Extraction des exemples négatifs\n",
        "    negative_synonyms = extract_negatives(model, synonym_pairs, synonym=True) #synonymes\n",
        "    negative_antonyms = extract_negatives(model, antonym_pairs, synonym=False) #antonymes\n",
        "\n",
        "    # Calcul du coût\n",
        "    attraction_cost = synonym_cost(model, synonym_pairs, negative_synonyms)#attraction\n",
        "    repulsion_cost = antonym_cost(model, antonym_pairs, negative_antonyms) #répulsion\n",
        "    regularization = regularization_cost(model, synonym_pairs, antonym_pairs) #régularisation\n",
        "\n",
        "    # Le coût total\n",
        "    total_cost = attraction_cost + repulsion_cost + regularization\n",
        "    return total_cost\n",
        "\n",
        "    # END TODO"
      ]
    },
    {
      "cell_type": "markdown",
      "metadata": {
        "id": "wKNd3klHyVE6"
      },
      "source": [
        "#### 3.3.2 Évaluation (3 points)\n",
        "\n",
        "Utilisez la fonction `spearman_rank_correlation` pour compléter la fonction d'évaluation `evaluate` qui exécute le modèle sur le jeu d'évaluation et calcule la corrélation de Spearman entre les scores prédits et réels.\n",
        "\n",
        "Utilisez `torch.no_grad()` pour éviter de stocker les gradients."
      ]
    },
    {
      "cell_type": "code",
      "execution_count": 147,
      "metadata": {
        "id": "Nb87j8pQyVE6"
      },
      "outputs": [],
      "source": [
        "def evaluate(model, eval_data, word_to_index):\n",
        "    \"\"\"\n",
        "    Calclue les prédictions du modèle sur le jeu d'évaluation puis la corrélation de Spearman entre les scores prédits et réels.\n",
        "\n",
        "    model: modèle de plongements de mots\n",
        "    eval_data: pd.DataFrame\n",
        "    word_to_index: dict\n",
        "\n",
        "    Returns:\n",
        "    float, la corrélation de Spearman entre les scores prédits par le modèle et réels.\n",
        "    \"\"\"\n",
        "     # Mise en mode évaluation du modèle\n",
        "    model.eval()\n",
        "\n",
        "    device = model.device\n",
        "\n",
        "    # Liste des scores réels de similarité entre les paires de mots\n",
        "    actual_scores = eval_data['score'].tolist()\n",
        "\n",
        "    # Liste pour stocker les scores prédits par le modèle\n",
        "    predicted_scores = []\n",
        "\n",
        "    # Création d'une liste de paires de mots à partir des colonnes 'word 1' et 'word 2'\n",
        "    word_pairs = list(zip(eval_data['word 1'], eval_data['word 2']))\n",
        "\n",
        "    # Filtrage des paires de mots pour inclure uniquement celles dont les mots sont présents dans le dictionnaire word_to_index\n",
        "    valid_pairs = [(word_to_index[w1], word_to_index[w2]) for w1, w2 in word_pairs if w1 in word_to_index and w2 in word_to_index]\n",
        "\n",
        "    with torch.no_grad():\n",
        "        # Pour chaque paire de mots valide\n",
        "        for idx1, idx2 in valid_pairs:\n",
        "            # Récupération des embeddings des deux mots\n",
        "            embedding1 = model.embeddings(torch.tensor(idx1, device=device))\n",
        "            embedding2 = model.embeddings(torch.tensor(idx2, device=device))\n",
        "\n",
        "            # Calcul des similarité cosinus entre les deux embeddings\n",
        "            similarity = cosine_similarity(embedding1.unsqueeze(0), embedding2.unsqueeze(0)).item()\n",
        "\n",
        "            # Ajout de la similarité prédite à la liste des scores prédits\n",
        "            predicted_scores.append(similarity)\n",
        "\n",
        "    # Calcul de la corrélation de Spearman entre les scores réels et prévus\n",
        "    return spearman_rank_correlation(actual_scores, predicted_scores)\n",
        "\n",
        "\n",
        "    # END TODO\n"
      ]
    },
    {
      "cell_type": "markdown",
      "metadata": {
        "id": "02GqnJ22yVE6"
      },
      "source": [
        "### 4. Entraînement de zéro (16 Points)\n",
        "\n",
        "Nous allons maintenant entraîner le modèle de zéro, sans utiliser les plongements GloVe pré-entraînés. Ensuite, dans la partie 5, nous entraînerons le modèle en l'initialisant avec les plongements GloVe pré-entraînés."
      ]
    },
    {
      "cell_type": "code",
      "execution_count": 148,
      "metadata": {
        "id": "2sYXDLjVyVE6"
      },
      "outputs": [],
      "source": [
        "# Hyperparamètres, optimiseur et DataLoader\n",
        "\n",
        "BATCH_SIZE = 64\n",
        "NUM_EPOCHS = 20\n",
        "LEARNING_RATE = 5e-3\n",
        "\n",
        "device = 'cuda' if torch.cuda.is_available() else 'cpu'\n",
        "\n",
        "torch.cuda.empty_cache()\n",
        "gc.collect()\n",
        "\n",
        "train_syn_tensor = data_to_tensor(train_synonyms, glove_word_to_index)\n",
        "train_ant_tensor = data_to_tensor(train_antonyms, glove_word_to_index)\n",
        "\n",
        "syn_data_loader = DataLoader(train_syn_tensor, batch_size=BATCH_SIZE, shuffle=True, drop_last=True)\n",
        "ant_data_loader = DataLoader(train_ant_tensor, batch_size=BATCH_SIZE, shuffle=True, drop_last=True)"
      ]
    },
    {
      "cell_type": "markdown",
      "metadata": {
        "id": "O9z5sfsRyVE7"
      },
      "source": [
        "#### 4.1 Complétez la cellule suivante pour créer le modèle de zéro `model_zero`, à partir d'une matrice de plongements aléatoire. (1 point)"
      ]
    },
    {
      "cell_type": "code",
      "execution_count": 149,
      "metadata": {
        "id": "z5B8zlPdyVE7"
      },
      "outputs": [],
      "source": [
        "model_zero = None\n",
        "random_seed = 0\n",
        "random_generator = torch.Generator(device=device).manual_seed(random_seed)\n",
        "\n",
        "embeddings_size = glove_embeddings.size()\n",
        "random_init_embeddings = torch.randn(embeddings_size, generator=random_generator, device=device)\n",
        "\n",
        "model_zero = ContrastiveWordEmbeddingModel(random_init_embeddings, device=device)\n",
        "\n",
        "optimizer = optim.Adam(model_zero.parameters(), lr=LEARNING_RATE)"
      ]
    },
    {
      "cell_type": "markdown",
      "metadata": {
        "id": "p3PWrrHGyVE7"
      },
      "source": [
        "#### 4.2 Entraînez le modèle sur le jeu des paires de synonymes et d'antonymes. (6 points)\n",
        "\n",
        "N'oubliez pas que l'entraînement se fait sur les synonymes et antonymes et que l'évaluation se fait sur SimLex-999.\n",
        "\n",
        "À défaut d'avoir un jeu de validation, on observe les résultats sur le corpus de test : SimLex-999. Ceci n’est fait qu’à titre illustratif pour voir l'évolution de l'apprentissage. Il ne faut pas faire de choix pour l’entrainement à partir des résultats sur le corpus de test.\n",
        "\n",
        "*Note : Les jeux de synonymes et d'antonymes n'ont pas la même taille. Une époque (epoch) correspond à une itération sur le jeu de données le plus petit.*"
      ]
    },
    {
      "cell_type": "code",
      "execution_count": 150,
      "metadata": {
        "colab": {
          "base_uri": "https://localhost:8080/"
        },
        "id": "5B--rMeayVE7",
        "outputId": "48948f0d-5931-4846-9be2-18f00124366e"
      },
      "outputs": [
        {
          "name": "stdout",
          "output_type": "stream",
          "text": [
            "Before training, Spearman Correlation: -0.0265\n"
          ]
        },
        {
          "name": "stderr",
          "output_type": "stream",
          "text": [
            "  5%|▌         | 1/20 [00:44<14:10, 44.74s/it]"
          ]
        },
        {
          "name": "stdout",
          "output_type": "stream",
          "text": [
            "Époque 1/20, Perte totale : 457757.1633, Perte moyenne : 2461.0600\n",
            "Époque 1, Corrélation de Spearman : 0.0118\n",
            "Époque 2/20, Perte totale : 329380.4584, Perte moyenne : 1770.8627\n"
          ]
        },
        {
          "name": "stderr",
          "output_type": "stream",
          "text": [
            "\r 10%|█         | 2/20 [01:29<13:29, 44.96s/it]"
          ]
        },
        {
          "name": "stdout",
          "output_type": "stream",
          "text": [
            "Époque 2, Corrélation de Spearman : 0.0417\n"
          ]
        },
        {
          "name": "stderr",
          "output_type": "stream",
          "text": [
            "\r 15%|█▌        | 3/20 [02:12<12:23, 43.75s/it]"
          ]
        },
        {
          "name": "stdout",
          "output_type": "stream",
          "text": [
            "Époque 3/20, Perte totale : 281704.5024, Perte moyenne : 1514.5403\n",
            "Époque 3, Corrélation de Spearman : 0.0568\n"
          ]
        },
        {
          "name": "stderr",
          "output_type": "stream",
          "text": [
            "\r 20%|██        | 4/20 [02:52<11:16, 42.26s/it]"
          ]
        },
        {
          "name": "stdout",
          "output_type": "stream",
          "text": [
            "Époque 4/20, Perte totale : 251916.4670, Perte moyenne : 1354.3896\n",
            "Époque 4, Corrélation de Spearman : 0.0661\n"
          ]
        },
        {
          "name": "stderr",
          "output_type": "stream",
          "text": [
            "\r 25%|██▌       | 5/20 [03:31<10:20, 41.36s/it]"
          ]
        },
        {
          "name": "stdout",
          "output_type": "stream",
          "text": [
            "Époque 5/20, Perte totale : 235563.0406, Perte moyenne : 1266.4680\n",
            "Époque 5, Corrélation de Spearman : 0.0798\n"
          ]
        },
        {
          "name": "stderr",
          "output_type": "stream",
          "text": [
            "\r 30%|███       | 6/20 [04:12<09:37, 41.22s/it]"
          ]
        },
        {
          "name": "stdout",
          "output_type": "stream",
          "text": [
            "Époque 6/20, Perte totale : 223084.5255, Perte moyenne : 1199.3792\n",
            "Époque 6, Corrélation de Spearman : 0.0800\n",
            "Époque 7/20, Perte totale : 209802.2958, Perte moyenne : 1127.9693\n"
          ]
        },
        {
          "name": "stderr",
          "output_type": "stream",
          "text": [
            "\r 35%|███▌      | 7/20 [04:55<09:00, 41.56s/it]"
          ]
        },
        {
          "name": "stdout",
          "output_type": "stream",
          "text": [
            "Époque 7, Corrélation de Spearman : 0.0936\n"
          ]
        },
        {
          "name": "stderr",
          "output_type": "stream",
          "text": [
            "\r 40%|████      | 8/20 [05:37<08:22, 41.88s/it]"
          ]
        },
        {
          "name": "stdout",
          "output_type": "stream",
          "text": [
            "Époque 8/20, Perte totale : 194831.4570, Perte moyenne : 1047.4810\n",
            "Époque 8, Corrélation de Spearman : 0.1023\n"
          ]
        },
        {
          "name": "stderr",
          "output_type": "stream",
          "text": [
            "\r 45%|████▌     | 9/20 [06:19<07:42, 42.01s/it]"
          ]
        },
        {
          "name": "stdout",
          "output_type": "stream",
          "text": [
            "Époque 9/20, Perte totale : 179792.2246, Perte moyenne : 966.6249\n",
            "Époque 9, Corrélation de Spearman : 0.1051\n",
            "Époque 10/20, Perte totale : 162501.8643, Perte moyenne : 873.6659\n"
          ]
        },
        {
          "name": "stderr",
          "output_type": "stream",
          "text": [
            "\r 50%|█████     | 10/20 [07:02<07:01, 42.11s/it]"
          ]
        },
        {
          "name": "stdout",
          "output_type": "stream",
          "text": [
            "Époque 10, Corrélation de Spearman : 0.1147\n"
          ]
        },
        {
          "name": "stderr",
          "output_type": "stream",
          "text": [
            "\r 55%|█████▌    | 11/20 [07:43<06:15, 41.72s/it]"
          ]
        },
        {
          "name": "stdout",
          "output_type": "stream",
          "text": [
            "Époque 11/20, Perte totale : 148077.3203, Perte moyenne : 796.1146\n",
            "Époque 11, Corrélation de Spearman : 0.1253\n"
          ]
        },
        {
          "name": "stderr",
          "output_type": "stream",
          "text": [
            "\r 60%|██████    | 12/20 [08:24<05:32, 41.57s/it]"
          ]
        },
        {
          "name": "stdout",
          "output_type": "stream",
          "text": [
            "Époque 12/20, Perte totale : 137197.3847, Perte moyenne : 737.6203\n",
            "Époque 12, Corrélation de Spearman : 0.1323\n",
            "Époque 13/20, Perte totale : 117949.6617, Perte moyenne : 634.1380\n"
          ]
        },
        {
          "name": "stderr",
          "output_type": "stream",
          "text": [
            "\r 65%|██████▌   | 13/20 [09:06<04:52, 41.72s/it]"
          ]
        },
        {
          "name": "stdout",
          "output_type": "stream",
          "text": [
            "Époque 13, Corrélation de Spearman : 0.1368\n"
          ]
        },
        {
          "name": "stderr",
          "output_type": "stream",
          "text": [
            "\r 70%|███████   | 14/20 [09:50<04:14, 42.36s/it]"
          ]
        },
        {
          "name": "stdout",
          "output_type": "stream",
          "text": [
            "Époque 14/20, Perte totale : 102084.3307, Perte moyenne : 548.8405\n",
            "Époque 14, Corrélation de Spearman : 0.1427\n"
          ]
        },
        {
          "name": "stderr",
          "output_type": "stream",
          "text": [
            "\r 75%|███████▌  | 15/20 [10:33<03:33, 42.77s/it]"
          ]
        },
        {
          "name": "stdout",
          "output_type": "stream",
          "text": [
            "Époque 15/20, Perte totale : 94953.6387, Perte moyenne : 510.5034\n",
            "Époque 15, Corrélation de Spearman : 0.1427\n"
          ]
        },
        {
          "name": "stderr",
          "output_type": "stream",
          "text": [
            "\r 80%|████████  | 16/20 [11:17<02:51, 42.93s/it]"
          ]
        },
        {
          "name": "stdout",
          "output_type": "stream",
          "text": [
            "Époque 16/20, Perte totale : 82982.1908, Perte moyenne : 446.1408\n",
            "Époque 16, Corrélation de Spearman : 0.1481\n"
          ]
        },
        {
          "name": "stderr",
          "output_type": "stream",
          "text": [
            "\r 85%|████████▌ | 17/20 [11:59<02:07, 42.59s/it]"
          ]
        },
        {
          "name": "stdout",
          "output_type": "stream",
          "text": [
            "Époque 17/20, Perte totale : 76560.1285, Perte moyenne : 411.6136\n",
            "Époque 17, Corrélation de Spearman : 0.1532\n"
          ]
        },
        {
          "name": "stderr",
          "output_type": "stream",
          "text": [
            "\r 90%|█████████ | 18/20 [12:40<01:24, 42.36s/it]"
          ]
        },
        {
          "name": "stdout",
          "output_type": "stream",
          "text": [
            "Époque 18/20, Perte totale : 67610.6760, Perte moyenne : 363.4983\n",
            "Époque 18, Corrélation de Spearman : 0.1542\n"
          ]
        },
        {
          "name": "stderr",
          "output_type": "stream",
          "text": [
            "\r 95%|█████████▌| 19/20 [13:24<00:42, 42.63s/it]"
          ]
        },
        {
          "name": "stdout",
          "output_type": "stream",
          "text": [
            "Époque 19/20, Perte totale : 60147.9145, Perte moyenne : 323.3759\n",
            "Époque 19, Corrélation de Spearman : 0.1578\n"
          ]
        },
        {
          "name": "stderr",
          "output_type": "stream",
          "text": [
            "100%|██████████| 20/20 [14:07<00:00, 42.39s/it]"
          ]
        },
        {
          "name": "stdout",
          "output_type": "stream",
          "text": [
            "Époque 20/20, Perte totale : 54477.1550, Perte moyenne : 292.8879\n",
            "Époque 20, Corrélation de Spearman : 0.1632\n",
            "Après l'entraînement, Corrélation de Spearman : 0.1632\n"
          ]
        },
        {
          "name": "stderr",
          "output_type": "stream",
          "text": [
            "\n"
          ]
        }
      ],
      "source": [
        "spearman_corr = evaluate(model_zero, evaluation_simlex, glove_word_to_index)\n",
        "print(f'Before training, Spearman Correlation: {spearman_corr:.4f}')\n",
        "\n",
        "# TODO\n",
        "\n",
        "losses = []  # Liste pour stocker les pertes moyennes à chaque époque\n",
        "spearman_correlations = []  # Liste pour enregistrer les corrélations de Spearman à chaque époque\n",
        "\n",
        "for epoch in tqdm(range(NUM_EPOCHS)):\n",
        "    model_zero.train()  # Activation du mode d'entraînement du modèle\n",
        "    total_epoch_loss = 0.0\n",
        "    batch_count = 0\n",
        "\n",
        "    # Parcours des mini-lots de données\n",
        "    for syn_batch, ant_batch in zip(syn_data_loader, ant_data_loader):\n",
        "        syn_batch, ant_batch = syn_batch.to(device), ant_batch.to(device)  # Transfert vers le device\n",
        "\n",
        "        optimizer.zero_grad()  # Réinitialisation des gradients\n",
        "\n",
        "        # Calcul du coût total et rétropropagation\n",
        "        loss = forward(model_zero, syn_batch, ant_batch)\n",
        "        loss.backward()\n",
        "        optimizer.step()  # Mise à jour des poids\n",
        "\n",
        "        # Accumulation du coût pour cette époque\n",
        "        total_epoch_loss += loss.item()\n",
        "        batch_count += 1\n",
        "\n",
        "    # Calcul de la perte moyenne pour cette époque\n",
        "    avg_loss = total_epoch_loss / batch_count\n",
        "    losses.append(avg_loss)  # Enregistrer la perte moyenne\n",
        "    print(f\"Époque {epoch + 1}/{NUM_EPOCHS}, Perte totale : {total_epoch_loss:.4f}, Perte moyenne : {avg_loss:.4f}\")\n",
        "\n",
        "    # Calcul de la corrélation de Spearman pour cet epoch\n",
        "    spearman_corr = evaluate(model_zero, evaluation_simlex, glove_word_to_index)\n",
        "    spearman_correlations.append(spearman_corr)\n",
        "    print(f\"Époque {epoch + 1}, Corrélation de Spearman : {spearman_corr:.4f}\")\n",
        "\n",
        "# Évaluation finale après l'entraînement\n",
        "final_spearman_corr = evaluate(model_zero, evaluation_simlex, glove_word_to_index)\n",
        "print(f'Après l\\'entraînement, Corrélation de Spearman : {final_spearman_corr:.4f}')\n",
        "\n",
        "# END TODO"
      ]
    },
    {
      "cell_type": "markdown",
      "metadata": {
        "id": "eaxUzqbWyVE7"
      },
      "source": [
        "#### 4.3 Courbes d'entraînement du modèle de zéro (4 points)\n",
        "\n",
        "Affichez la perte moyenne sur le jeu d'entraînement et la corrélation de Spearman sur le jeu de validation à chaque époque."
      ]
    },
    {
      "cell_type": "code",
      "execution_count": 151,
      "metadata": {
        "colab": {
          "base_uri": "https://localhost:8080/",
          "height": 962
        },
        "id": "c6ihSLiyyVE7",
        "outputId": "b51b378e-6cb6-4db5-b72f-fb3bbd99d650"
      },
      "outputs": [
        {
          "data": {
            "image/png": "[encoded data removed]",
            "text/plain": [
              "<Figure size 1000x500 with 1 Axes>"
            ]
          },
          "metadata": {},
          "output_type": "display_data"
        },
        {
          "data": {
            "image/png": "[encoded data removed]",
            "text/plain": [
              "<Figure size 1000x500 with 1 Axes>"
            ]
          },
          "metadata": {},
          "output_type": "display_data"
        }
      ],
      "source": [
        "# TODO\n",
        "\n",
        "#Tracer de la courbe de la perte moyenne\n",
        "plt.figure(figsize=(10, 5))\n",
        "plt.plot(range(1, NUM_EPOCHS + 1), losses, marker='o', linestyle='-', color='b')\n",
        "plt.title('Courbe de la Perte Moyenne')\n",
        "plt.xlabel('Époque')\n",
        "plt.ylabel('Perte Moyenne')\n",
        "plt.grid(True)\n",
        "plt.show()\n",
        "\n",
        "#Tracer de la courbe de la corrélation de Spearman\n",
        "plt.figure(figsize=(10,5))\n",
        "plt.plot(range(1,NUM_EPOCHS+1),spearman_correlations,marker='o',linestyle='-',color='r')\n",
        "plt.title('Courbe de la Corrélation de Spearman')\n",
        "plt.xlabel('Époque')\n",
        "plt.ylabel('Corrélation de Spearman')\n",
        "plt.grid(True)\n",
        "plt.show()\n",
        "\n",
        "# END TODO\n"
      ]
    },
    {
      "cell_type": "markdown",
      "metadata": {
        "id": "rKuV6e_SyVE7"
      },
      "source": [
        "#### 4.4 Évaluation du modèle de zéro et comparaison avec GloVe (5 points)\n",
        "\n",
        "Comparez le modèle de zéro après l'entraînement à GloVe (résultat de la partie 2.4) en termes de corrélation de Spearman sur le jeu de validation. Quelle méthode est la plus performante ? Pourquoi ?\n"
      ]
    },
    {
      "cell_type": "markdown",
      "metadata": {
        "id": "A6LaMZHkYlPZ"
      },
      "source": [
        "Après l'entraînement de notre modèle de zéro, nous avons comparé ses résultats à ceux du modèle **GloVe** en termes de corrélation de Spearman sur le jeu de validation. Le modèle **GloVe** a atteint une corrélation de **0,29**, tandis que notre modèle entraîné de zéro a atteint une corrélation maximale de **0,1505** après 20 époques.\n",
        "\n",
        "La méthode la plus performante est donc celle utilisant **GloVe**. Cela s'explique par le fait que **GloVe** est un modèle pré-entraîné sur un très grand corpus de données textuelles, ce qui lui permet de mieux capturer les relations sémantiques entre les mots dès le départ. En revanche, notre modèle de zéro a besoin de beaucoup plus de données et d'entraînement pour tenter de rivaliser avec ces plongements pré-entraînés.\n",
        "\n",
        "En conclusion, l'entraînement de zéro ne parvient pas à surpasser l'efficacité de **GloVe** dans ce contexte."
      ]
    },
    {
      "cell_type": "markdown",
      "metadata": {
        "id": "IbyqucvayVE8"
      },
      "source": [
        "### 5. Intérêt de GloVe (18 Points)\n",
        "\n",
        "Dans la section précédente, nous avons entraîné un modèle de zéro.\n",
        "\n",
        "Nous allons maintenant évaluer si initialiser le modèle avec les plongements de GloVe permet d'améliorer les performances."
      ]
    },
    {
      "cell_type": "markdown",
      "metadata": {
        "id": "QER9TcTkyVE8"
      },
      "source": [
        "#### 5.1 Initialisation avec GloVe (6 points)\n",
        "\n",
        "Entraînez le modèle `model_fine_tuned`, mais cette fois en ititialisant directement avec les plongements du modèle pré-entraîné GloVe.\n",
        "\n",
        "On utilisera Adam comme optimiseur."
      ]
    },
    {
      "cell_type": "code",
      "execution_count": 152,
      "metadata": {
        "id": "4CPmvnbGyVE8"
      },
      "outputs": [],
      "source": [
        "# TODO\n",
        "\n",
        "# Initialisation du modèle model_fine_tuned avec les plongements GloVe pré-entraînés\n",
        "model_fine_tuned = ContrastiveWordEmbeddingModel(glove_embeddings, device=device)\n",
        "\n",
        "# Initialisation de l'optimiseur Adam\n",
        "optimizer = optim.Adam(model_fine_tuned.parameters(), lr=LEARNING_RATE)\n",
        "\n",
        "# END TODO"
      ]
    },
    {
      "cell_type": "code",
      "execution_count": 153,
      "metadata": {
        "colab": {
          "base_uri": "https://localhost:8080/"
        },
        "id": "ZT6a2HINyVE8",
        "outputId": "738ff110-27a0-4dec-9422-708350664e46"
      },
      "outputs": [
        {
          "name": "stdout",
          "output_type": "stream",
          "text": [
            "Before training, Spearman Correlation: 0.2916\n"
          ]
        },
        {
          "name": "stderr",
          "output_type": "stream",
          "text": [
            "  5%|▌         | 1/20 [00:41<13:14, 41.83s/it]"
          ]
        },
        {
          "name": "stdout",
          "output_type": "stream",
          "text": [
            "Epoch 1/20, Total Loss: 147907.4311, Average Loss: 795.2012\n",
            "Epoch 1, Spearman Correlation: 0.3386\n",
            "Epoch 2/20, Total Loss: 41259.5054, Average Loss: 221.8253\n"
          ]
        },
        {
          "name": "stderr",
          "output_type": "stream",
          "text": [
            "\r 10%|█         | 2/20 [01:23<12:27, 41.55s/it]"
          ]
        },
        {
          "name": "stdout",
          "output_type": "stream",
          "text": [
            "Epoch 2, Spearman Correlation: 0.3582\n"
          ]
        },
        {
          "name": "stderr",
          "output_type": "stream",
          "text": [
            "\r 15%|█▌        | 3/20 [02:04<11:46, 41.55s/it]"
          ]
        },
        {
          "name": "stdout",
          "output_type": "stream",
          "text": [
            "Epoch 3/20, Total Loss: 17399.0111, Average Loss: 93.5431\n",
            "Epoch 3, Spearman Correlation: 0.3723\n"
          ]
        },
        {
          "name": "stderr",
          "output_type": "stream",
          "text": [
            "\r 20%|██        | 4/20 [02:46<11:04, 41.51s/it]"
          ]
        },
        {
          "name": "stdout",
          "output_type": "stream",
          "text": [
            "Epoch 4/20, Total Loss: 11413.5015, Average Loss: 61.3629\n",
            "Epoch 4, Spearman Correlation: 0.3840\n"
          ]
        },
        {
          "name": "stderr",
          "output_type": "stream",
          "text": [
            "\r 25%|██▌       | 5/20 [03:27<10:22, 41.47s/it]"
          ]
        },
        {
          "name": "stdout",
          "output_type": "stream",
          "text": [
            "Epoch 5/20, Total Loss: 7714.3488, Average Loss: 41.4750\n",
            "Epoch 5, Spearman Correlation: 0.3880\n"
          ]
        },
        {
          "name": "stderr",
          "output_type": "stream",
          "text": [
            "\r 30%|███       | 6/20 [04:09<09:42, 41.61s/it]"
          ]
        },
        {
          "name": "stdout",
          "output_type": "stream",
          "text": [
            "Epoch 6/20, Total Loss: 5462.0390, Average Loss: 29.3658\n",
            "Epoch 6, Spearman Correlation: 0.3966\n"
          ]
        },
        {
          "name": "stderr",
          "output_type": "stream",
          "text": [
            "\r 35%|███▌      | 7/20 [04:51<09:02, 41.75s/it]"
          ]
        },
        {
          "name": "stdout",
          "output_type": "stream",
          "text": [
            "Epoch 7/20, Total Loss: 4371.2568, Average Loss: 23.5014\n",
            "Epoch 7, Spearman Correlation: 0.3980\n"
          ]
        },
        {
          "name": "stderr",
          "output_type": "stream",
          "text": [
            "\r 40%|████      | 8/20 [05:32<08:19, 41.64s/it]"
          ]
        },
        {
          "name": "stdout",
          "output_type": "stream",
          "text": [
            "Epoch 8/20, Total Loss: 4030.4828, Average Loss: 21.6693\n",
            "Epoch 8, Spearman Correlation: 0.4034\n"
          ]
        },
        {
          "name": "stderr",
          "output_type": "stream",
          "text": [
            "\r 45%|████▌     | 9/20 [06:13<07:35, 41.40s/it]"
          ]
        },
        {
          "name": "stdout",
          "output_type": "stream",
          "text": [
            "Epoch 9/20, Total Loss: 2963.1531, Average Loss: 15.9309\n",
            "Epoch 9, Spearman Correlation: 0.4054\n"
          ]
        },
        {
          "name": "stderr",
          "output_type": "stream",
          "text": [
            "\r 50%|█████     | 10/20 [06:55<06:55, 41.55s/it]"
          ]
        },
        {
          "name": "stdout",
          "output_type": "stream",
          "text": [
            "Epoch 10/20, Total Loss: 2856.4049, Average Loss: 15.3570\n",
            "Epoch 10, Spearman Correlation: 0.4136\n"
          ]
        },
        {
          "name": "stderr",
          "output_type": "stream",
          "text": [
            "\r 55%|█████▌    | 11/20 [07:38<06:17, 41.94s/it]"
          ]
        },
        {
          "name": "stdout",
          "output_type": "stream",
          "text": [
            "Epoch 11/20, Total Loss: 2792.2144, Average Loss: 15.0119\n",
            "Epoch 11, Spearman Correlation: 0.4134\n"
          ]
        },
        {
          "name": "stderr",
          "output_type": "stream",
          "text": [
            "\r 60%|██████    | 12/20 [08:21<05:37, 42.21s/it]"
          ]
        },
        {
          "name": "stdout",
          "output_type": "stream",
          "text": [
            "Epoch 12/20, Total Loss: 2254.8911, Average Loss: 12.1231\n",
            "Epoch 12, Spearman Correlation: 0.4174\n"
          ]
        },
        {
          "name": "stderr",
          "output_type": "stream",
          "text": [
            "\r 65%|██████▌   | 13/20 [09:03<04:56, 42.33s/it]"
          ]
        },
        {
          "name": "stdout",
          "output_type": "stream",
          "text": [
            "Epoch 13/20, Total Loss: 1813.8034, Average Loss: 9.7516\n",
            "Epoch 13, Spearman Correlation: 0.4169\n"
          ]
        },
        {
          "name": "stderr",
          "output_type": "stream",
          "text": [
            "\r 70%|███████   | 14/20 [09:46<04:14, 42.43s/it]"
          ]
        },
        {
          "name": "stdout",
          "output_type": "stream",
          "text": [
            "Epoch 14/20, Total Loss: 2070.3790, Average Loss: 11.1311\n",
            "Epoch 14, Spearman Correlation: 0.4244\n"
          ]
        },
        {
          "name": "stderr",
          "output_type": "stream",
          "text": [
            "\r 75%|███████▌  | 15/20 [10:28<03:30, 42.15s/it]"
          ]
        },
        {
          "name": "stdout",
          "output_type": "stream",
          "text": [
            "Epoch 15/20, Total Loss: 1863.5294, Average Loss: 10.0190\n",
            "Epoch 15, Spearman Correlation: 0.4381\n"
          ]
        },
        {
          "name": "stderr",
          "output_type": "stream",
          "text": [
            "\r 80%|████████  | 16/20 [11:09<02:48, 42.05s/it]"
          ]
        },
        {
          "name": "stdout",
          "output_type": "stream",
          "text": [
            "Epoch 16/20, Total Loss: 1670.8517, Average Loss: 8.9831\n",
            "Epoch 16, Spearman Correlation: 0.4370\n",
            "Epoch 17/20, Total Loss: 1635.5852, Average Loss: 8.7935\n"
          ]
        },
        {
          "name": "stderr",
          "output_type": "stream",
          "text": [
            "\r 85%|████████▌ | 17/20 [11:52<02:06, 42.28s/it]"
          ]
        },
        {
          "name": "stdout",
          "output_type": "stream",
          "text": [
            "Epoch 17, Spearman Correlation: 0.4401\n"
          ]
        },
        {
          "name": "stderr",
          "output_type": "stream",
          "text": [
            "\r 90%|█████████ | 18/20 [12:35<01:25, 42.51s/it]"
          ]
        },
        {
          "name": "stdout",
          "output_type": "stream",
          "text": [
            "Epoch 18/20, Total Loss: 1498.6316, Average Loss: 8.0572\n",
            "Epoch 18, Spearman Correlation: 0.4435\n"
          ]
        },
        {
          "name": "stderr",
          "output_type": "stream",
          "text": [
            "\r 95%|█████████▌| 19/20 [13:18<00:42, 42.68s/it]"
          ]
        },
        {
          "name": "stdout",
          "output_type": "stream",
          "text": [
            "Epoch 19/20, Total Loss: 1383.4996, Average Loss: 7.4382\n",
            "Epoch 19, Spearman Correlation: 0.4442\n"
          ]
        },
        {
          "name": "stderr",
          "output_type": "stream",
          "text": [
            "100%|██████████| 20/20 [14:01<00:00, 42.06s/it]"
          ]
        },
        {
          "name": "stdout",
          "output_type": "stream",
          "text": [
            "Epoch 20/20, Total Loss: 1389.6823, Average Loss: 7.4714\n",
            "Epoch 20, Spearman Correlation: 0.4474\n",
            "After training, Spearman Correlation: 0.4474\n"
          ]
        },
        {
          "name": "stderr",
          "output_type": "stream",
          "text": [
            "\n"
          ]
        }
      ],
      "source": [
        "spearman_corr = evaluate(model_fine_tuned, evaluation_simlex, glove_word_to_index)\n",
        "print(f'Before training, Spearman Correlation: {spearman_corr:.4f}')\n",
        "\n",
        "# TODO\n",
        "\n",
        "losses = []  # Perte moyenne à chaque epoch\n",
        "spearman_correlations = []  # Corrélation de Spearman à chaque epoch\n",
        "\n",
        "for epoch in tqdm(range(NUM_EPOCHS)):\n",
        "    model_fine_tuned.train() # modèle en mode entrainement\n",
        "    total_loss = 0.0\n",
        "    num_batches = 0\n",
        "\n",
        "    for syn_batch, ant_batch in zip(syn_data_loader, ant_data_loader):\n",
        "        syn_batch = syn_batch.to(device)\n",
        "        ant_batch = ant_batch.to(device)\n",
        "\n",
        "        optimizer.zero_grad() # Réinitialisation des gradients\n",
        "        loss = forward(model_fine_tuned, syn_batch, ant_batch) # Appel de forward\n",
        "        loss.backward() # Calcul des gradients\n",
        "        optimizer.step()\n",
        "        total_loss += loss.item()\n",
        "        num_batches += 1\n",
        "\n",
        "    # Perte moyenne pour cet epoch\n",
        "    average_loss = total_loss / num_batches\n",
        "    losses.append(average_loss)\n",
        "    print(f\"Epoch {epoch + 1}/{NUM_EPOCHS}, Total Loss: {total_loss:.4f}, Average Loss: {average_loss:.4f}\")\n",
        "\n",
        "    # Corrélation pour cet epoch\n",
        "    spearman_corr = evaluate(model_fine_tuned, evaluation_simlex, glove_word_to_index)\n",
        "    spearman_correlations.append(spearman_corr)\n",
        "    print(f'Epoch {epoch + 1}, Spearman Correlation: {spearman_corr:.4f}')\n",
        "\n",
        "# Affichage de la corrélation après l'entraînement\n",
        "spearman_corr = evaluate(model_fine_tuned, evaluation_simlex, glove_word_to_index)\n",
        "print(f'After training, Spearman Correlation: {spearman_corr:.4f}')\n",
        "\n",
        "\n",
        "# END TODO"
      ]
    },
    {
      "cell_type": "markdown",
      "metadata": {
        "id": "DktJAqxxyVE9"
      },
      "source": [
        "#### 5.2 Courbes d'entraînement (4 points)\n",
        "\n",
        "Affichez la perte moyenne sur le jeu d'entraînement et la corrélation de Spearman sur le jeu de validation à chaque époque."
      ]
    },
    {
      "cell_type": "code",
      "execution_count": 156,
      "metadata": {
        "colab": {
          "base_uri": "https://localhost:8080/",
          "height": 962
        },
        "id": "W5fCydBwyVE9",
        "outputId": "7e8c3ab6-371d-4172-cc0f-ad793c1d6130"
      },
      "outputs": [
        {
          "data": {
            "image/png": "[encoded data removed]",
            "text/plain": [
              "<Figure size 1000x500 with 1 Axes>"
            ]
          },
          "metadata": {},
          "output_type": "display_data"
        },
        {
          "data": {
            "image/png": "[encoded data removed]",
            "text/plain": [
              "<Figure size 1000x500 with 1 Axes>"
            ]
          },
          "metadata": {},
          "output_type": "display_data"
        }
      ],
      "source": [
        "# TODO\n",
        "\n",
        "# Affichage de la perte moyenne\n",
        "plt.figure(figsize=(10, 5))\n",
        "plt.plot(range(1, NUM_EPOCHS + 1), losses, marker='o', color='blue', label='Perte Moyenne')\n",
        "plt.title('Courbe de la Perte Moyenne')\n",
        "plt.xlabel('Époque')\n",
        "plt.ylabel('Perte Moyenne')\n",
        "plt.grid(True)\n",
        "plt.show()\n",
        "\n",
        "# Affichage de la corrélation de Spearman\n",
        "plt.figure(figsize=(10, 5))\n",
        "plt.plot(range(1, NUM_EPOCHS + 1), spearman_correlations, marker='o', color='red', label='Corrélation de Spearman')\n",
        "plt.title('Courbe de la Corrélation de Spearman')\n",
        "plt.xlabel('Époque')\n",
        "plt.ylabel('Corrélation de Spearman')\n",
        "plt.grid(True)\n",
        "plt.show()\n",
        "\n",
        "\n",
        "# END TODO\n"
      ]
    },
    {
      "cell_type": "markdown",
      "metadata": {
        "id": "BIwYfHAQyVE9"
      },
      "source": [
        "#### 5.3 Vérification sur un exemple (3 points)\n",
        "\n",
        "Avec le modèle `model_fine_tuned`, calculez la similarité cosinus entre 'fast' et 'slow' et entre 'fast' et 'rapid'. Commentez les résultats en les comparant avec ceux de la partie 1.4."
      ]
    },
    {
      "cell_type": "code",
      "execution_count": 155,
      "metadata": {
        "colab": {
          "base_uri": "https://localhost:8080/"
        },
        "id": "PZIqfD6hyVE9",
        "outputId": "9e925ab2-3c3a-428f-9a07-898283ab26a9"
      },
      "outputs": [
        {
          "name": "stdout",
          "output_type": "stream",
          "text": [
            "Similarité cosinus entre 'fast' et 'slow' : 0.34289368987083435\n",
            "Similarité cosinus entre 'fast' et 'rapid' : 0.6495106220245361\n"
          ]
        }
      ],
      "source": [
        "# TODO\n",
        "\n",
        "# Ensemble des termes à analyser\n",
        "termes = ['fast', 'slow', 'rapid']\n",
        "\n",
        "# Extraction des vecteurs de mots (embeddings) pour chaque terme\n",
        "vecteurs_mots = [model_fine_tuned.embeddings(torch.tensor(glove_word_to_index[terme]).to(device)) for terme in termes]\n",
        "\n",
        "# Comparaison entre 'fast' et 'slow'\n",
        "similarite_entre_fast_et_slow = cosine_similarity(\n",
        "    vecteurs_mots[0].unsqueeze(0),\n",
        "    vecteurs_mots[1].unsqueeze(0)\n",
        ").item()\n",
        "\n",
        "# Comparaison entre 'fast' et 'rapid'\n",
        "similarite_entre_fast_et_rapid = cosine_similarity(\n",
        "    vecteurs_mots[0].unsqueeze(0),\n",
        "    vecteurs_mots[2].unsqueeze(0)\n",
        ").item()\n",
        "\n",
        "# Résultats de la similarité cosinus\n",
        "print(f\"Similarité cosinus entre 'fast' et 'slow' : {similarite_entre_fast_et_slow}\")\n",
        "print(f\"Similarité cosinus entre 'fast' et 'rapid' : {similarite_entre_fast_et_rapid}\")\n",
        "\n",
        "# END TODO"
      ]
    },
    {
      "cell_type": "markdown",
      "metadata": {
        "id": "GrlxeGFryVE9"
      },
      "source": [
        "#### 5.4 Analyse, comparaison, conclusion (5 points)\n",
        "\n",
        "Comparez les performances des trois modèles (GloVe, zéro, fine-tuned). Quelle méthode est la plus performante ? Pourquoi ?\n"
      ]
    },
    {
      "cell_type": "markdown",
      "metadata": {
        "id": "1UFCsSCzcAJg"
      },
      "source": [
        "**Comparaison des performances des trois modèles (GloVe, Zéro, Fine-tuned) :**\n",
        "\n",
        "1. **Modèle GloVe** :\n",
        "   - Corrélation de Spearman : **0.29**\n",
        "   - Ce modèle utilise des plongements pré-entraînés, ce qui lui permet d'obtenir une performance initiale correcte sans nécessiter de réentraînement sur les données spécifiques. Il capture déjà une bonne similarité sémantique entre les mots grâce à l'entraînement préalable sur de grands corpus.\n",
        "\n",
        "2. **Modèle Zéro** :\n",
        "   - Corrélation de Spearman après entraînement : **0,1505**\n",
        "   - Ce modèle commence sans aucune connaissance préalable et doit apprendre de zéro à partir des données fournies. Bien qu'il y ait une amélioration après l'entraînement, sa performance reste inférieure à celle de GloVe car il ne bénéficie pas des plongements pré-entraînés.\n",
        "\n",
        "3. **Modèle Fine-tuned** :\n",
        "   - Corrélation de Spearman : **0.447**\n",
        "   - Ce modèle part des plongements GloVe et les ajuste aux données spécifiques. Il combine les avantages des connaissances préalables de GloVe avec une spécialisation supplémentaire, ce qui lui permet d'obtenir les meilleures performances parmi les trois modèles.\n",
        "\n",
        "**Quelle méthode est la plus performante ? Pourquoi ?**  \n",
        "Le **modèle fine-tuned** est le plus performant, avec une corrélation de Spearman de **0.447**. Cela s'explique par le fait qu'il combine la richesse des plongements pré-entraînés de GloVe avec un ajustement supplémentaire sur des données spécifiques, ce qui lui permet de mieux capter les relations sémantiques entre les mots dans ce contexte particulier.\n"
      ]
    },
    {
      "cell_type": "markdown",
      "metadata": {
        "id": "szBV33oXyVE-"
      },
      "source": [
        "## Livrables\n",
        "Vous devez remettre votre notebook sur Moodle et Gradescope en ipynb et pdf. Pour Gradescope vous devez associer les numéros de questions avec vos réponses dans le pdf grâce à l'outil que fournit Gradescope.\n",
        "\n",
        "\n",
        "## Évaluation\n",
        "Votre TP sera évalué selon les critères suivants :\n",
        "1. Exécution correcte du code et obtention des sorties attendues\n",
        "2. Réponses correctes aux questions d'analyse\n",
        "3. Qualité du code (noms significatifs, structure, performance, gestion d’exception, etc.)\n",
        "4. Commentaires clairs et informatifs"
      ]
    }
  ],
  "metadata": {
    "colab": {
      "provenance": []
    },
    "kernelspec": {
      "display_name": "Python 3 (ipykernel)",
      "language": "python",
      "name": "python3"
    },
    "language_info": {
      "codemirror_mode": {
        "name": "ipython",
        "version": 3
      },
      "file_extension": ".py",
      "mimetype": "text/x-python",
      "name": "python",
      "nbconvert_exporter": "python",
      "pygments_lexer": "ipython3",
      "version": "3.11.9"
    }
  },
  "nbformat": 4,
  "nbformat_minor": 0
}
